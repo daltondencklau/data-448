{
 "cells": [
  {
   "cell_type": "code",
   "execution_count": 1,
   "id": "f317f2ee-5143-432f-b96e-3fc9f0881e63",
   "metadata": {
    "tags": []
   },
   "outputs": [
    {
     "name": "stdout",
     "output_type": "stream",
     "text": [
      "Looking in indexes: https://pypi.org/simple, https://pip.repos.neuron.amazonaws.com\n",
      "Requirement already satisfied: optuna in /home/ec2-user/anaconda3/envs/python3/lib/python3.10/site-packages (3.1.0)\n",
      "Requirement already satisfied: cmaes>=0.9.1 in /home/ec2-user/anaconda3/envs/python3/lib/python3.10/site-packages (from optuna) (0.9.1)\n",
      "Requirement already satisfied: tqdm in /home/ec2-user/anaconda3/envs/python3/lib/python3.10/site-packages (from optuna) (4.64.1)\n",
      "Requirement already satisfied: packaging>=20.0 in /home/ec2-user/anaconda3/envs/python3/lib/python3.10/site-packages (from optuna) (21.3)\n",
      "Requirement already satisfied: PyYAML in /home/ec2-user/anaconda3/envs/python3/lib/python3.10/site-packages (from optuna) (5.4.1)\n",
      "Requirement already satisfied: colorlog in /home/ec2-user/anaconda3/envs/python3/lib/python3.10/site-packages (from optuna) (6.7.0)\n",
      "Requirement already satisfied: numpy in /home/ec2-user/anaconda3/envs/python3/lib/python3.10/site-packages (from optuna) (1.22.3)\n",
      "Requirement already satisfied: sqlalchemy>=1.3.0 in /home/ec2-user/anaconda3/envs/python3/lib/python3.10/site-packages (from optuna) (1.4.46)\n",
      "Requirement already satisfied: alembic>=1.5.0 in /home/ec2-user/anaconda3/envs/python3/lib/python3.10/site-packages (from optuna) (1.10.2)\n",
      "Requirement already satisfied: typing-extensions>=4 in /home/ec2-user/anaconda3/envs/python3/lib/python3.10/site-packages (from alembic>=1.5.0->optuna) (4.4.0)\n",
      "Requirement already satisfied: Mako in /home/ec2-user/anaconda3/envs/python3/lib/python3.10/site-packages (from alembic>=1.5.0->optuna) (1.2.4)\n",
      "Requirement already satisfied: pyparsing!=3.0.5,>=2.0.2 in /home/ec2-user/anaconda3/envs/python3/lib/python3.10/site-packages (from packaging>=20.0->optuna) (3.0.9)\n",
      "Requirement already satisfied: greenlet!=0.4.17 in /home/ec2-user/anaconda3/envs/python3/lib/python3.10/site-packages (from sqlalchemy>=1.3.0->optuna) (2.0.1)\n",
      "Requirement already satisfied: MarkupSafe>=0.9.2 in /home/ec2-user/anaconda3/envs/python3/lib/python3.10/site-packages (from Mako->alembic>=1.5.0->optuna) (2.1.1)\n",
      "Note: you may need to restart the kernel to use updated packages.\n"
     ]
    }
   ],
   "source": [
    "pip install optuna"
   ]
  },
  {
   "cell_type": "code",
   "execution_count": 2,
   "id": "d05955f4-54d3-402f-8036-43fa2300f554",
   "metadata": {
    "tags": []
   },
   "outputs": [
    {
     "name": "stdout",
     "output_type": "stream",
     "text": [
      "Looking in indexes: https://pypi.org/simple, https://pip.repos.neuron.amazonaws.com\n",
      "Requirement already satisfied: catboost in /home/ec2-user/anaconda3/envs/python3/lib/python3.10/site-packages (1.1.1)\n",
      "Requirement already satisfied: six in /home/ec2-user/anaconda3/envs/python3/lib/python3.10/site-packages (from catboost) (1.16.0)\n",
      "Requirement already satisfied: plotly in /home/ec2-user/anaconda3/envs/python3/lib/python3.10/site-packages (from catboost) (5.11.0)\n",
      "Requirement already satisfied: graphviz in /home/ec2-user/anaconda3/envs/python3/lib/python3.10/site-packages (from catboost) (0.20.1)\n",
      "Requirement already satisfied: pandas>=0.24.0 in /home/ec2-user/anaconda3/envs/python3/lib/python3.10/site-packages (from catboost) (1.5.2)\n",
      "Requirement already satisfied: numpy>=1.16.0 in /home/ec2-user/anaconda3/envs/python3/lib/python3.10/site-packages (from catboost) (1.22.3)\n",
      "Requirement already satisfied: matplotlib in /home/ec2-user/anaconda3/envs/python3/lib/python3.10/site-packages (from catboost) (3.6.2)\n",
      "Requirement already satisfied: scipy in /home/ec2-user/anaconda3/envs/python3/lib/python3.10/site-packages (from catboost) (1.10.0)\n",
      "Requirement already satisfied: python-dateutil>=2.8.1 in /home/ec2-user/anaconda3/envs/python3/lib/python3.10/site-packages (from pandas>=0.24.0->catboost) (2.8.2)\n",
      "Requirement already satisfied: pytz>=2020.1 in /home/ec2-user/anaconda3/envs/python3/lib/python3.10/site-packages (from pandas>=0.24.0->catboost) (2022.7)\n",
      "Requirement already satisfied: packaging>=20.0 in /home/ec2-user/anaconda3/envs/python3/lib/python3.10/site-packages (from matplotlib->catboost) (21.3)\n",
      "Requirement already satisfied: fonttools>=4.22.0 in /home/ec2-user/anaconda3/envs/python3/lib/python3.10/site-packages (from matplotlib->catboost) (4.38.0)\n",
      "Requirement already satisfied: kiwisolver>=1.0.1 in /home/ec2-user/anaconda3/envs/python3/lib/python3.10/site-packages (from matplotlib->catboost) (1.4.4)\n",
      "Requirement already satisfied: cycler>=0.10 in /home/ec2-user/anaconda3/envs/python3/lib/python3.10/site-packages (from matplotlib->catboost) (0.11.0)\n",
      "Requirement already satisfied: contourpy>=1.0.1 in /home/ec2-user/anaconda3/envs/python3/lib/python3.10/site-packages (from matplotlib->catboost) (1.0.6)\n",
      "Requirement already satisfied: pyparsing>=2.2.1 in /home/ec2-user/anaconda3/envs/python3/lib/python3.10/site-packages (from matplotlib->catboost) (3.0.9)\n",
      "Requirement already satisfied: pillow>=6.2.0 in /home/ec2-user/anaconda3/envs/python3/lib/python3.10/site-packages (from matplotlib->catboost) (9.4.0)\n",
      "Requirement already satisfied: tenacity>=6.2.0 in /home/ec2-user/anaconda3/envs/python3/lib/python3.10/site-packages (from plotly->catboost) (8.1.0)\n",
      "Note: you may need to restart the kernel to use updated packages.\n"
     ]
    }
   ],
   "source": [
    "pip install catboost"
   ]
  },
  {
   "cell_type": "code",
   "execution_count": 3,
   "id": "85cd6725-f33d-4604-86fb-4969091e1a06",
   "metadata": {
    "tags": []
   },
   "outputs": [
    {
     "name": "stdout",
     "output_type": "stream",
     "text": [
      "Looking in indexes: https://pypi.org/simple, https://pip.repos.neuron.amazonaws.com\n",
      "Requirement already satisfied: xgboost in /home/ec2-user/anaconda3/envs/python3/lib/python3.10/site-packages (1.7.5)\n",
      "Requirement already satisfied: scipy in /home/ec2-user/anaconda3/envs/python3/lib/python3.10/site-packages (from xgboost) (1.10.0)\n",
      "Requirement already satisfied: numpy in /home/ec2-user/anaconda3/envs/python3/lib/python3.10/site-packages (from xgboost) (1.22.3)\n",
      "Note: you may need to restart the kernel to use updated packages.\n"
     ]
    }
   ],
   "source": [
    "pip install xgboost"
   ]
  },
  {
   "cell_type": "code",
   "execution_count": 4,
   "id": "41d3b5ce-e49f-4f0e-a0b2-03e55b9fca0c",
   "metadata": {
    "tags": []
   },
   "outputs": [
    {
     "name": "stdout",
     "output_type": "stream",
     "text": [
      "Looking in indexes: https://pypi.org/simple, https://pip.repos.neuron.amazonaws.com\n",
      "Requirement already satisfied: lightgbm in /home/ec2-user/anaconda3/envs/python3/lib/python3.10/site-packages (3.3.5)\n",
      "Requirement already satisfied: scikit-learn!=0.22.0 in /home/ec2-user/anaconda3/envs/python3/lib/python3.10/site-packages (from lightgbm) (1.2.0)\n",
      "Requirement already satisfied: scipy in /home/ec2-user/anaconda3/envs/python3/lib/python3.10/site-packages (from lightgbm) (1.10.0)\n",
      "Requirement already satisfied: wheel in /home/ec2-user/anaconda3/envs/python3/lib/python3.10/site-packages (from lightgbm) (0.38.4)\n",
      "Requirement already satisfied: numpy in /home/ec2-user/anaconda3/envs/python3/lib/python3.10/site-packages (from lightgbm) (1.22.3)\n",
      "Requirement already satisfied: joblib>=1.1.1 in /home/ec2-user/anaconda3/envs/python3/lib/python3.10/site-packages (from scikit-learn!=0.22.0->lightgbm) (1.2.0)\n",
      "Requirement already satisfied: threadpoolctl>=2.0.0 in /home/ec2-user/anaconda3/envs/python3/lib/python3.10/site-packages (from scikit-learn!=0.22.0->lightgbm) (3.1.0)\n",
      "Note: you may need to restart the kernel to use updated packages.\n"
     ]
    }
   ],
   "source": [
    "pip install lightgbm"
   ]
  },
  {
   "cell_type": "markdown",
   "id": "b7eb06a5-e1b2-4bf7-8e85-d42f3e721f60",
   "metadata": {},
   "source": [
    "## Exercise 1\n",
    "***"
   ]
  },
  {
   "cell_type": "code",
   "execution_count": 5,
   "id": "52d6d2fd-817e-4764-91ee-6b0059804811",
   "metadata": {
    "tags": []
   },
   "outputs": [],
   "source": [
    "import boto3\n",
    "import pandas as pd\n",
    "import numpy as np\n",
    "import matplotlib.pyplot as plt\n",
    "import optuna\n",
    "\n",
    "from sklearn.preprocessing import MinMaxScaler\n",
    "from sklearn.model_selection import train_test_split, GridSearchCV, RandomizedSearchCV, StratifiedKFold\n",
    "\n",
    "from xgboost import XGBClassifier\n",
    "from sklearn.tree import DecisionTreeClassifier\n",
    "from sklearn.ensemble import RandomForestClassifier, AdaBoostClassifier\n",
    "import lightgbm as lgb\n",
    "from lightgbm import LGBMClassifier\n",
    "from sklearn.feature_selection import RFE, RFECV\n",
    "\n",
    "from sklearn.metrics import classification_report, confusion_matrix, make_scorer\n",
    "from cost_function import cost_function, cost_function_cutoff\n",
    "\n",
    "## define bucket in which you are trying to reach\n",
    "s3 = boto3.resource('s3')\n",
    "bucket_name = 'daltondencklau-data445-bucket'\n",
    "bucket = s3.Bucket(bucket_name)\n",
    "\n",
    "## define csv file to read in the bucket\n",
    "file_key= 'train.csv'\n",
    "file_key2= 'test.csv'\n",
    "\n",
    "bucket_object= bucket.Object(file_key)\n",
    "file_object = bucket_object.get()\n",
    "file_content_stream = file_object.get('Body')\n",
    "\n",
    "bucket_object2= bucket.Object(file_key2)\n",
    "file_object2 = bucket_object2.get()\n",
    "file_content_stream2 = file_object2.get('Body')\n",
    "\n",
    "#reading the datefile\n",
    "train = pd.read_csv(file_content_stream, sep = '|')\n",
    "test = pd.read_csv(file_content_stream2, sep = '|')"
   ]
  },
  {
   "cell_type": "code",
   "execution_count": 6,
   "id": "f72547a6-73c9-4599-883b-6fd075cd69ed",
   "metadata": {
    "tags": []
   },
   "outputs": [
    {
     "data": {
      "text/html": [
       "<div>\n",
       "<style scoped>\n",
       "    .dataframe tbody tr th:only-of-type {\n",
       "        vertical-align: middle;\n",
       "    }\n",
       "\n",
       "    .dataframe tbody tr th {\n",
       "        vertical-align: top;\n",
       "    }\n",
       "\n",
       "    .dataframe thead th {\n",
       "        text-align: right;\n",
       "    }\n",
       "</style>\n",
       "<table border=\"1\" class=\"dataframe\">\n",
       "  <thead>\n",
       "    <tr style=\"text-align: right;\">\n",
       "      <th></th>\n",
       "      <th>trustLevel</th>\n",
       "      <th>totalScanTimeInSeconds</th>\n",
       "      <th>grandTotal</th>\n",
       "      <th>lineItemVoids</th>\n",
       "      <th>scansWithoutRegistration</th>\n",
       "      <th>quantityModifications</th>\n",
       "      <th>scannedLineItemsPerSecond</th>\n",
       "      <th>valuePerSecond</th>\n",
       "      <th>lineItemVoidsPerPosition</th>\n",
       "      <th>fraud</th>\n",
       "    </tr>\n",
       "  </thead>\n",
       "  <tbody>\n",
       "    <tr>\n",
       "      <th>0</th>\n",
       "      <td>5</td>\n",
       "      <td>1054</td>\n",
       "      <td>54.70</td>\n",
       "      <td>7</td>\n",
       "      <td>0</td>\n",
       "      <td>3</td>\n",
       "      <td>0.027514</td>\n",
       "      <td>0.051898</td>\n",
       "      <td>0.241379</td>\n",
       "      <td>0</td>\n",
       "    </tr>\n",
       "    <tr>\n",
       "      <th>1</th>\n",
       "      <td>3</td>\n",
       "      <td>108</td>\n",
       "      <td>27.36</td>\n",
       "      <td>5</td>\n",
       "      <td>2</td>\n",
       "      <td>4</td>\n",
       "      <td>0.129630</td>\n",
       "      <td>0.253333</td>\n",
       "      <td>0.357143</td>\n",
       "      <td>0</td>\n",
       "    </tr>\n",
       "    <tr>\n",
       "      <th>2</th>\n",
       "      <td>3</td>\n",
       "      <td>1516</td>\n",
       "      <td>62.16</td>\n",
       "      <td>3</td>\n",
       "      <td>10</td>\n",
       "      <td>5</td>\n",
       "      <td>0.008575</td>\n",
       "      <td>0.041003</td>\n",
       "      <td>0.230769</td>\n",
       "      <td>0</td>\n",
       "    </tr>\n",
       "    <tr>\n",
       "      <th>3</th>\n",
       "      <td>6</td>\n",
       "      <td>1791</td>\n",
       "      <td>92.31</td>\n",
       "      <td>8</td>\n",
       "      <td>4</td>\n",
       "      <td>4</td>\n",
       "      <td>0.016192</td>\n",
       "      <td>0.051541</td>\n",
       "      <td>0.275862</td>\n",
       "      <td>0</td>\n",
       "    </tr>\n",
       "    <tr>\n",
       "      <th>4</th>\n",
       "      <td>5</td>\n",
       "      <td>430</td>\n",
       "      <td>81.53</td>\n",
       "      <td>3</td>\n",
       "      <td>7</td>\n",
       "      <td>2</td>\n",
       "      <td>0.062791</td>\n",
       "      <td>0.189605</td>\n",
       "      <td>0.111111</td>\n",
       "      <td>0</td>\n",
       "    </tr>\n",
       "  </tbody>\n",
       "</table>\n",
       "</div>"
      ],
      "text/plain": [
       "   trustLevel  totalScanTimeInSeconds  grandTotal  lineItemVoids  \\\n",
       "0           5                    1054       54.70              7   \n",
       "1           3                     108       27.36              5   \n",
       "2           3                    1516       62.16              3   \n",
       "3           6                    1791       92.31              8   \n",
       "4           5                     430       81.53              3   \n",
       "\n",
       "   scansWithoutRegistration  quantityModifications  scannedLineItemsPerSecond  \\\n",
       "0                         0                      3                   0.027514   \n",
       "1                         2                      4                   0.129630   \n",
       "2                        10                      5                   0.008575   \n",
       "3                         4                      4                   0.016192   \n",
       "4                         7                      2                   0.062791   \n",
       "\n",
       "   valuePerSecond  lineItemVoidsPerPosition  fraud  \n",
       "0        0.051898                  0.241379      0  \n",
       "1        0.253333                  0.357143      0  \n",
       "2        0.041003                  0.230769      0  \n",
       "3        0.051541                  0.275862      0  \n",
       "4        0.189605                  0.111111      0  "
      ]
     },
     "execution_count": 6,
     "metadata": {},
     "output_type": "execute_result"
    }
   ],
   "source": [
    "train.head()"
   ]
  },
  {
   "cell_type": "code",
   "execution_count": 7,
   "id": "52c5dd16-d5ee-478a-9efe-32d76ca1f878",
   "metadata": {
    "tags": []
   },
   "outputs": [
    {
     "data": {
      "text/html": [
       "<div>\n",
       "<style scoped>\n",
       "    .dataframe tbody tr th:only-of-type {\n",
       "        vertical-align: middle;\n",
       "    }\n",
       "\n",
       "    .dataframe tbody tr th {\n",
       "        vertical-align: top;\n",
       "    }\n",
       "\n",
       "    .dataframe thead th {\n",
       "        text-align: right;\n",
       "    }\n",
       "</style>\n",
       "<table border=\"1\" class=\"dataframe\">\n",
       "  <thead>\n",
       "    <tr style=\"text-align: right;\">\n",
       "      <th></th>\n",
       "      <th>trustLevel</th>\n",
       "      <th>totalScanTimeInSeconds</th>\n",
       "      <th>grandTotal</th>\n",
       "      <th>lineItemVoids</th>\n",
       "      <th>scansWithoutRegistration</th>\n",
       "      <th>quantityModifications</th>\n",
       "      <th>scannedLineItemsPerSecond</th>\n",
       "      <th>valuePerSecond</th>\n",
       "      <th>lineItemVoidsPerPosition</th>\n",
       "    </tr>\n",
       "  </thead>\n",
       "  <tbody>\n",
       "    <tr>\n",
       "      <th>0</th>\n",
       "      <td>4</td>\n",
       "      <td>467</td>\n",
       "      <td>88.48</td>\n",
       "      <td>4</td>\n",
       "      <td>8</td>\n",
       "      <td>4</td>\n",
       "      <td>0.014989</td>\n",
       "      <td>0.189465</td>\n",
       "      <td>0.571429</td>\n",
       "    </tr>\n",
       "    <tr>\n",
       "      <th>1</th>\n",
       "      <td>3</td>\n",
       "      <td>1004</td>\n",
       "      <td>58.99</td>\n",
       "      <td>7</td>\n",
       "      <td>6</td>\n",
       "      <td>1</td>\n",
       "      <td>0.026892</td>\n",
       "      <td>0.058755</td>\n",
       "      <td>0.259259</td>\n",
       "    </tr>\n",
       "    <tr>\n",
       "      <th>2</th>\n",
       "      <td>1</td>\n",
       "      <td>162</td>\n",
       "      <td>14.00</td>\n",
       "      <td>4</td>\n",
       "      <td>5</td>\n",
       "      <td>4</td>\n",
       "      <td>0.006173</td>\n",
       "      <td>0.086420</td>\n",
       "      <td>4.000000</td>\n",
       "    </tr>\n",
       "    <tr>\n",
       "      <th>3</th>\n",
       "      <td>5</td>\n",
       "      <td>532</td>\n",
       "      <td>84.79</td>\n",
       "      <td>9</td>\n",
       "      <td>3</td>\n",
       "      <td>4</td>\n",
       "      <td>0.026316</td>\n",
       "      <td>0.159380</td>\n",
       "      <td>0.642857</td>\n",
       "    </tr>\n",
       "    <tr>\n",
       "      <th>4</th>\n",
       "      <td>5</td>\n",
       "      <td>890</td>\n",
       "      <td>42.16</td>\n",
       "      <td>4</td>\n",
       "      <td>0</td>\n",
       "      <td>0</td>\n",
       "      <td>0.021348</td>\n",
       "      <td>0.047371</td>\n",
       "      <td>0.210526</td>\n",
       "    </tr>\n",
       "  </tbody>\n",
       "</table>\n",
       "</div>"
      ],
      "text/plain": [
       "   trustLevel  totalScanTimeInSeconds  grandTotal  lineItemVoids  \\\n",
       "0           4                     467       88.48              4   \n",
       "1           3                    1004       58.99              7   \n",
       "2           1                     162       14.00              4   \n",
       "3           5                     532       84.79              9   \n",
       "4           5                     890       42.16              4   \n",
       "\n",
       "   scansWithoutRegistration  quantityModifications  scannedLineItemsPerSecond  \\\n",
       "0                         8                      4                   0.014989   \n",
       "1                         6                      1                   0.026892   \n",
       "2                         5                      4                   0.006173   \n",
       "3                         3                      4                   0.026316   \n",
       "4                         0                      0                   0.021348   \n",
       "\n",
       "   valuePerSecond  lineItemVoidsPerPosition  \n",
       "0        0.189465                  0.571429  \n",
       "1        0.058755                  0.259259  \n",
       "2        0.086420                  4.000000  \n",
       "3        0.159380                  0.642857  \n",
       "4        0.047371                  0.210526  "
      ]
     },
     "execution_count": 7,
     "metadata": {},
     "output_type": "execute_result"
    }
   ],
   "source": [
    "test.head()"
   ]
  },
  {
   "cell_type": "markdown",
   "id": "88025c88-74bd-4177-b676-707197860b89",
   "metadata": {
    "tags": []
   },
   "source": [
    "### top variables from hw5\n",
    "##### totalScanTimeInSeconds\n",
    "##### trustLevel\n",
    "##### lineItemVoidsPerPosition\n",
    "##### interaction_4\n",
    "##### scannedLineItemsPerSecond\n",
    "##### scansWithoutRegistration\n",
    "##### lineItemVoids"
   ]
  },
  {
   "cell_type": "code",
   "execution_count": 8,
   "id": "e6c0edc6-568d-427f-91f5-0819203745cc",
   "metadata": {
    "tags": []
   },
   "outputs": [],
   "source": [
    "## engineering features from hw5 (interaction_4 only)\n",
    "train['interaction_4'] = np.where(((train['trustLevel'] <= 0.431) &\n",
    "                                      (train['scannedLineItemsPerSecond'] <= 0.012) &\n",
    "                                      (train['totalScanTimeInSeconds'] <= 895)), 1, 0)\n",
    "\n",
    "test['interaction_4'] = np.where(((test['trustLevel'] <= 0.431) &\n",
    "                                      (test['scannedLineItemsPerSecond'] <= 0.012) &\n",
    "                                      (test['totalScanTimeInSeconds'] <= 895)), 1, 0)"
   ]
  },
  {
   "cell_type": "markdown",
   "id": "031e0c03-de18-4f73-b70d-603f62128be4",
   "metadata": {},
   "source": [
    "## Exercise 2\n",
    "***"
   ]
  },
  {
   "cell_type": "code",
   "execution_count": 9,
   "id": "a59db411-515e-4ac8-aa6a-9f542c1dd14e",
   "metadata": {
    "tags": []
   },
   "outputs": [],
   "source": [
    "## defining input and target variables (top 7 features from hw5)\n",
    "x_train_top7 = train[['totalScanTimeInSeconds', 'trustLevel', 'lineItemVoidsPerPosition',\n",
    "                 'interaction_4', 'scannedLineItemsPerSecond', 'scansWithoutRegistration', 'lineItemVoids']]\n",
    "\n",
    "x_train_top6 = train[['totalScanTimeInSeconds', 'trustLevel', 'lineItemVoidsPerPosition',\n",
    "                 'interaction_4', 'scannedLineItemsPerSecond', 'scansWithoutRegistration']]\n",
    "\n",
    "x_train_top5 = train[['totalScanTimeInSeconds', 'trustLevel', 'lineItemVoidsPerPosition',\n",
    "                 'interaction_4', 'scannedLineItemsPerSecond']]\n",
    "\n",
    "y_train = train['fraud']"
   ]
  },
  {
   "cell_type": "markdown",
   "id": "81306acf-51f4-4611-a53d-3f3c02b55180",
   "metadata": {},
   "source": [
    "### i) GridSearchCV: XGB"
   ]
  },
  {
   "cell_type": "markdown",
   "id": "1d08daa8-39ac-4111-af27-fdcb1844040d",
   "metadata": {},
   "source": [
    "##### model 1\n",
    "\n",
    "top 5 features"
   ]
  },
  {
   "cell_type": "code",
   "execution_count": 10,
   "id": "cfc95fb7-5a07-47c5-a4a0-627e78189cf5",
   "metadata": {
    "tags": []
   },
   "outputs": [
    {
     "name": "stdout",
     "output_type": "stream",
     "text": [
      "The best combination of hyperparameters for XGB is: {'colsample_bytree': 1, 'gamma': 0.3, 'learning_rate': 0.01, 'max_depth': 5, 'min_child_weight': 5, 'n_estimators': 500, 'subsample': 0.8}\n",
      "The best score for XBG is: -25.0\n"
     ]
    }
   ],
   "source": [
    "## defining the parameters to tune\n",
    "xgb_params = {'n_estimators': [500],\n",
    "'max_depth': [3, 5, 7],\n",
    "'min_child_weight': [5, 7],\n",
    "'learning_rate': [0.01],\n",
    "'gamma': [0.3, 0.1],\n",
    "'subsample': [0.8, 1],\n",
    "'colsample_bytree': [1]}\n",
    "\n",
    "## creating customized scoring function\n",
    "my_score_function = make_scorer(cost_function, greater_is_better = True, needs_proba = True)\n",
    "\n",
    "## running gridsearch cv\n",
    "xgb_gridsearch_1 = GridSearchCV(estimator = XGBClassifier(), param_grid = xgb_params, cv = 3, scoring = my_score_function,\n",
    "                                n_jobs = -1).fit(x_train_top5, y_train)\n",
    "    \n",
    "## extracting best hyperparamter combo\n",
    "xgb_md_1 = xgb_gridsearch_1.best_params_\n",
    "xgb_score_1 = xgb_gridsearch_1.best_score_\n",
    "\n",
    "## printing the best combination of hyper parameters\n",
    "print('The best combination of hyperparameters for XGB is:', xgb_md_1)\n",
    "\n",
    "## printing the best score\n",
    "print('The best score for XBG is:', xgb_score_1)"
   ]
  },
  {
   "cell_type": "markdown",
   "id": "0ad78274-309b-43c7-851e-8aa0244c27e1",
   "metadata": {
    "tags": []
   },
   "source": [
    "#### model 2\n",
    "\n",
    "top 6 features"
   ]
  },
  {
   "cell_type": "code",
   "execution_count": 11,
   "id": "9fad5eb5-e03b-4688-8cfd-9c44651ba6b8",
   "metadata": {
    "tags": []
   },
   "outputs": [
    {
     "name": "stdout",
     "output_type": "stream",
     "text": [
      "The best combination of hyperparameters for XGB is: {'colsample_bytree': 1, 'gamma': 0.3, 'learning_rate': 0.01, 'max_depth': 7, 'min_child_weight': 5, 'n_estimators': 500, 'subsample': 1}\n",
      "The best score for XBG is: -1.6666666666666667\n"
     ]
    }
   ],
   "source": [
    "## defining the parameters to tune\n",
    "xgb_params = {'n_estimators': [500],\n",
    "'max_depth': [3, 5, 7],\n",
    "'min_child_weight': [5, 7],\n",
    "'learning_rate': [0.01],\n",
    "'gamma': [0.3, 0.1],\n",
    "'subsample': [0.8, 1],\n",
    "'colsample_bytree': [1]}\n",
    "\n",
    "## creating customized scoring function\n",
    "my_score_function = make_scorer(cost_function, greater_is_better = True, needs_proba = True)\n",
    "\n",
    "## running gridsearch cv\n",
    "xgb_gridsearch_2 = GridSearchCV(estimator = XGBClassifier(), param_grid = xgb_params, cv = 3, scoring = my_score_function,\n",
    "                                n_jobs = -1).fit(x_train_top6, y_train)\n",
    "    \n",
    "## extracting best hyperparamter combo\n",
    "xgb_md_2 = xgb_gridsearch_2.best_params_\n",
    "xgb_score_2 = xgb_gridsearch_2.best_score_\n",
    "\n",
    "## printing the best combination of hyper parameters\n",
    "print('The best combination of hyperparameters for XGB is:', xgb_md_2)\n",
    "\n",
    "## printing the best score\n",
    "print('The best score for XBG is:', xgb_score_2)"
   ]
  },
  {
   "cell_type": "markdown",
   "id": "2d05cc4b-744e-437f-82da-144339d92ba7",
   "metadata": {},
   "source": [
    "#### model 3\n",
    "\n",
    "top 7 features"
   ]
  },
  {
   "cell_type": "code",
   "execution_count": 12,
   "id": "4d4d00ef-5f56-4c03-aded-358a6f4894c8",
   "metadata": {
    "tags": []
   },
   "outputs": [
    {
     "name": "stdout",
     "output_type": "stream",
     "text": [
      "The best combination of hyperparameters for XGB is: {'colsample_bytree': 1, 'gamma': 0.3, 'learning_rate': 0.01, 'max_depth': 3, 'min_child_weight': 5, 'n_estimators': 500, 'subsample': 0.8}\n",
      "The best score for XBG is: 8.333333333333334\n"
     ]
    }
   ],
   "source": [
    "## defining the parameters to tune\n",
    "xgb_params = {'n_estimators': [500],\n",
    "'max_depth': [3, 5, 7],\n",
    "'min_child_weight': [5, 7],\n",
    "'learning_rate': [0.01],\n",
    "'gamma': [0.3, 0.1],\n",
    "'subsample': [0.8, 1],\n",
    "'colsample_bytree': [1]}\n",
    "\n",
    "## creating customized scoring function\n",
    "my_score_function = make_scorer(cost_function, greater_is_better = True, needs_proba = True)\n",
    "\n",
    "## gridsearch cv\n",
    "xgb_gridsearch_3 = GridSearchCV(estimator = XGBClassifier(), param_grid = xgb_params, cv = 3, scoring = my_score_function,\n",
    "                                n_jobs = -1).fit(x_train_top7, y_train)\n",
    "    \n",
    "## extracting best hyperparamter combo\n",
    "xgb_md_3 = xgb_gridsearch_3.best_params_\n",
    "xgb_score_3 = xgb_gridsearch_3.best_score_\n",
    "\n",
    "## printing the best combination of hyper parameters\n",
    "print('The best combination of hyperparameters for XGB is:', xgb_md_3)\n",
    "\n",
    "## printing the best score\n",
    "print('The best score for XBG is:', xgb_score_3)"
   ]
  },
  {
   "cell_type": "markdown",
   "id": "c1df0466-728f-4db5-9d3b-2288a8bdca46",
   "metadata": {},
   "source": [
    "Best model = model 3"
   ]
  },
  {
   "cell_type": "markdown",
   "id": "2c5dfefc-f8c9-4f46-9d42-f523bc0f8ef3",
   "metadata": {},
   "source": [
    "### ii) RandomSearchCV: AdaBoost"
   ]
  },
  {
   "cell_type": "markdown",
   "id": "75717fc6-5b87-4fb2-a7cd-a3b0d2435ece",
   "metadata": {},
   "source": [
    "#### model 1\n",
    "top 5 features"
   ]
  },
  {
   "cell_type": "code",
   "execution_count": 13,
   "id": "eaa4ff95-8da4-46ce-a325-e763cee8bae8",
   "metadata": {
    "collapsed": true,
    "jupyter": {
     "outputs_hidden": true
    },
    "tags": []
   },
   "outputs": [
    {
     "name": "stderr",
     "output_type": "stream",
     "text": [
      "/home/ec2-user/anaconda3/envs/python3/lib/python3.10/site-packages/sklearn/model_selection/_search.py:306: UserWarning: The total space of parameters 24 is smaller than n_iter=30. Running 24 iterations. For exhaustive searches, use GridSearchCV.\n",
      "  warnings.warn(\n",
      "/home/ec2-user/anaconda3/envs/python3/lib/python3.10/site-packages/sklearn/ensemble/_base.py:166: FutureWarning: `base_estimator` was renamed to `estimator` in version 1.2 and will be removed in 1.4.\n",
      "  warnings.warn(\n",
      "/home/ec2-user/anaconda3/envs/python3/lib/python3.10/site-packages/sklearn/ensemble/_base.py:166: FutureWarning: `base_estimator` was renamed to `estimator` in version 1.2 and will be removed in 1.4.\n",
      "  warnings.warn(\n",
      "/home/ec2-user/anaconda3/envs/python3/lib/python3.10/site-packages/sklearn/ensemble/_base.py:166: FutureWarning: `base_estimator` was renamed to `estimator` in version 1.2 and will be removed in 1.4.\n",
      "  warnings.warn(\n",
      "/home/ec2-user/anaconda3/envs/python3/lib/python3.10/site-packages/sklearn/ensemble/_base.py:166: FutureWarning: `base_estimator` was renamed to `estimator` in version 1.2 and will be removed in 1.4.\n",
      "  warnings.warn(\n",
      "/home/ec2-user/anaconda3/envs/python3/lib/python3.10/site-packages/sklearn/ensemble/_base.py:166: FutureWarning: `base_estimator` was renamed to `estimator` in version 1.2 and will be removed in 1.4.\n",
      "  warnings.warn(\n",
      "/home/ec2-user/anaconda3/envs/python3/lib/python3.10/site-packages/sklearn/ensemble/_base.py:166: FutureWarning: `base_estimator` was renamed to `estimator` in version 1.2 and will be removed in 1.4.\n",
      "  warnings.warn(\n",
      "/home/ec2-user/anaconda3/envs/python3/lib/python3.10/site-packages/sklearn/ensemble/_base.py:166: FutureWarning: `base_estimator` was renamed to `estimator` in version 1.2 and will be removed in 1.4.\n",
      "  warnings.warn(\n",
      "/home/ec2-user/anaconda3/envs/python3/lib/python3.10/site-packages/sklearn/ensemble/_base.py:166: FutureWarning: `base_estimator` was renamed to `estimator` in version 1.2 and will be removed in 1.4.\n",
      "  warnings.warn(\n",
      "/home/ec2-user/anaconda3/envs/python3/lib/python3.10/site-packages/sklearn/ensemble/_base.py:166: FutureWarning: `base_estimator` was renamed to `estimator` in version 1.2 and will be removed in 1.4.\n",
      "  warnings.warn(\n",
      "/home/ec2-user/anaconda3/envs/python3/lib/python3.10/site-packages/sklearn/ensemble/_base.py:166: FutureWarning: `base_estimator` was renamed to `estimator` in version 1.2 and will be removed in 1.4.\n",
      "  warnings.warn(\n",
      "/home/ec2-user/anaconda3/envs/python3/lib/python3.10/site-packages/sklearn/ensemble/_base.py:166: FutureWarning: `base_estimator` was renamed to `estimator` in version 1.2 and will be removed in 1.4.\n",
      "  warnings.warn(\n",
      "/home/ec2-user/anaconda3/envs/python3/lib/python3.10/site-packages/sklearn/ensemble/_base.py:166: FutureWarning: `base_estimator` was renamed to `estimator` in version 1.2 and will be removed in 1.4.\n",
      "  warnings.warn(\n",
      "/home/ec2-user/anaconda3/envs/python3/lib/python3.10/site-packages/sklearn/ensemble/_base.py:166: FutureWarning: `base_estimator` was renamed to `estimator` in version 1.2 and will be removed in 1.4.\n",
      "  warnings.warn(\n",
      "/home/ec2-user/anaconda3/envs/python3/lib/python3.10/site-packages/sklearn/ensemble/_base.py:166: FutureWarning: `base_estimator` was renamed to `estimator` in version 1.2 and will be removed in 1.4.\n",
      "  warnings.warn(\n",
      "/home/ec2-user/anaconda3/envs/python3/lib/python3.10/site-packages/sklearn/ensemble/_base.py:166: FutureWarning: `base_estimator` was renamed to `estimator` in version 1.2 and will be removed in 1.4.\n",
      "  warnings.warn(\n",
      "/home/ec2-user/anaconda3/envs/python3/lib/python3.10/site-packages/sklearn/ensemble/_base.py:166: FutureWarning: `base_estimator` was renamed to `estimator` in version 1.2 and will be removed in 1.4.\n",
      "  warnings.warn(\n",
      "/home/ec2-user/anaconda3/envs/python3/lib/python3.10/site-packages/sklearn/ensemble/_base.py:166: FutureWarning: `base_estimator` was renamed to `estimator` in version 1.2 and will be removed in 1.4.\n",
      "  warnings.warn(\n",
      "/home/ec2-user/anaconda3/envs/python3/lib/python3.10/site-packages/sklearn/ensemble/_base.py:166: FutureWarning: `base_estimator` was renamed to `estimator` in version 1.2 and will be removed in 1.4.\n",
      "  warnings.warn(\n",
      "/home/ec2-user/anaconda3/envs/python3/lib/python3.10/site-packages/sklearn/ensemble/_base.py:166: FutureWarning: `base_estimator` was renamed to `estimator` in version 1.2 and will be removed in 1.4.\n",
      "  warnings.warn(\n",
      "/home/ec2-user/anaconda3/envs/python3/lib/python3.10/site-packages/sklearn/ensemble/_base.py:166: FutureWarning: `base_estimator` was renamed to `estimator` in version 1.2 and will be removed in 1.4.\n",
      "  warnings.warn(\n",
      "/home/ec2-user/anaconda3/envs/python3/lib/python3.10/site-packages/sklearn/ensemble/_base.py:166: FutureWarning: `base_estimator` was renamed to `estimator` in version 1.2 and will be removed in 1.4.\n",
      "  warnings.warn(\n",
      "/home/ec2-user/anaconda3/envs/python3/lib/python3.10/site-packages/sklearn/ensemble/_base.py:166: FutureWarning: `base_estimator` was renamed to `estimator` in version 1.2 and will be removed in 1.4.\n",
      "  warnings.warn(\n",
      "/home/ec2-user/anaconda3/envs/python3/lib/python3.10/site-packages/sklearn/ensemble/_base.py:166: FutureWarning: `base_estimator` was renamed to `estimator` in version 1.2 and will be removed in 1.4.\n",
      "  warnings.warn(\n",
      "/home/ec2-user/anaconda3/envs/python3/lib/python3.10/site-packages/sklearn/ensemble/_base.py:166: FutureWarning: `base_estimator` was renamed to `estimator` in version 1.2 and will be removed in 1.4.\n",
      "  warnings.warn(\n",
      "/home/ec2-user/anaconda3/envs/python3/lib/python3.10/site-packages/sklearn/ensemble/_base.py:166: FutureWarning: `base_estimator` was renamed to `estimator` in version 1.2 and will be removed in 1.4.\n",
      "  warnings.warn(\n",
      "/home/ec2-user/anaconda3/envs/python3/lib/python3.10/site-packages/sklearn/ensemble/_base.py:166: FutureWarning: `base_estimator` was renamed to `estimator` in version 1.2 and will be removed in 1.4.\n",
      "  warnings.warn(\n",
      "/home/ec2-user/anaconda3/envs/python3/lib/python3.10/site-packages/sklearn/ensemble/_base.py:166: FutureWarning: `base_estimator` was renamed to `estimator` in version 1.2 and will be removed in 1.4.\n",
      "  warnings.warn(\n",
      "/home/ec2-user/anaconda3/envs/python3/lib/python3.10/site-packages/sklearn/ensemble/_base.py:166: FutureWarning: `base_estimator` was renamed to `estimator` in version 1.2 and will be removed in 1.4.\n",
      "  warnings.warn(\n",
      "/home/ec2-user/anaconda3/envs/python3/lib/python3.10/site-packages/sklearn/ensemble/_base.py:166: FutureWarning: `base_estimator` was renamed to `estimator` in version 1.2 and will be removed in 1.4.\n",
      "  warnings.warn(\n",
      "/home/ec2-user/anaconda3/envs/python3/lib/python3.10/site-packages/sklearn/ensemble/_base.py:166: FutureWarning: `base_estimator` was renamed to `estimator` in version 1.2 and will be removed in 1.4.\n",
      "  warnings.warn(\n",
      "/home/ec2-user/anaconda3/envs/python3/lib/python3.10/site-packages/sklearn/ensemble/_base.py:166: FutureWarning: `base_estimator` was renamed to `estimator` in version 1.2 and will be removed in 1.4.\n",
      "  warnings.warn(\n",
      "/home/ec2-user/anaconda3/envs/python3/lib/python3.10/site-packages/sklearn/ensemble/_base.py:166: FutureWarning: `base_estimator` was renamed to `estimator` in version 1.2 and will be removed in 1.4.\n",
      "  warnings.warn(\n",
      "/home/ec2-user/anaconda3/envs/python3/lib/python3.10/site-packages/sklearn/ensemble/_base.py:166: FutureWarning: `base_estimator` was renamed to `estimator` in version 1.2 and will be removed in 1.4.\n",
      "  warnings.warn(\n",
      "/home/ec2-user/anaconda3/envs/python3/lib/python3.10/site-packages/sklearn/ensemble/_base.py:166: FutureWarning: `base_estimator` was renamed to `estimator` in version 1.2 and will be removed in 1.4.\n",
      "  warnings.warn(\n",
      "/home/ec2-user/anaconda3/envs/python3/lib/python3.10/site-packages/sklearn/ensemble/_base.py:166: FutureWarning: `base_estimator` was renamed to `estimator` in version 1.2 and will be removed in 1.4.\n",
      "  warnings.warn(\n",
      "/home/ec2-user/anaconda3/envs/python3/lib/python3.10/site-packages/sklearn/ensemble/_base.py:166: FutureWarning: `base_estimator` was renamed to `estimator` in version 1.2 and will be removed in 1.4.\n",
      "  warnings.warn(\n",
      "/home/ec2-user/anaconda3/envs/python3/lib/python3.10/site-packages/sklearn/ensemble/_base.py:166: FutureWarning: `base_estimator` was renamed to `estimator` in version 1.2 and will be removed in 1.4.\n",
      "  warnings.warn(\n",
      "/home/ec2-user/anaconda3/envs/python3/lib/python3.10/site-packages/sklearn/ensemble/_base.py:166: FutureWarning: `base_estimator` was renamed to `estimator` in version 1.2 and will be removed in 1.4.\n",
      "  warnings.warn(\n",
      "/home/ec2-user/anaconda3/envs/python3/lib/python3.10/site-packages/sklearn/ensemble/_base.py:166: FutureWarning: `base_estimator` was renamed to `estimator` in version 1.2 and will be removed in 1.4.\n",
      "  warnings.warn(\n",
      "/home/ec2-user/anaconda3/envs/python3/lib/python3.10/site-packages/sklearn/ensemble/_base.py:166: FutureWarning: `base_estimator` was renamed to `estimator` in version 1.2 and will be removed in 1.4.\n",
      "  warnings.warn(\n",
      "/home/ec2-user/anaconda3/envs/python3/lib/python3.10/site-packages/sklearn/ensemble/_base.py:166: FutureWarning: `base_estimator` was renamed to `estimator` in version 1.2 and will be removed in 1.4.\n",
      "  warnings.warn(\n",
      "/home/ec2-user/anaconda3/envs/python3/lib/python3.10/site-packages/sklearn/ensemble/_base.py:166: FutureWarning: `base_estimator` was renamed to `estimator` in version 1.2 and will be removed in 1.4.\n",
      "  warnings.warn(\n",
      "/home/ec2-user/anaconda3/envs/python3/lib/python3.10/site-packages/sklearn/ensemble/_base.py:166: FutureWarning: `base_estimator` was renamed to `estimator` in version 1.2 and will be removed in 1.4.\n",
      "  warnings.warn(\n",
      "/home/ec2-user/anaconda3/envs/python3/lib/python3.10/site-packages/sklearn/ensemble/_base.py:166: FutureWarning: `base_estimator` was renamed to `estimator` in version 1.2 and will be removed in 1.4.\n",
      "  warnings.warn(\n",
      "/home/ec2-user/anaconda3/envs/python3/lib/python3.10/site-packages/sklearn/ensemble/_base.py:166: FutureWarning: `base_estimator` was renamed to `estimator` in version 1.2 and will be removed in 1.4.\n",
      "  warnings.warn(\n",
      "/home/ec2-user/anaconda3/envs/python3/lib/python3.10/site-packages/sklearn/ensemble/_base.py:166: FutureWarning: `base_estimator` was renamed to `estimator` in version 1.2 and will be removed in 1.4.\n",
      "  warnings.warn(\n",
      "/home/ec2-user/anaconda3/envs/python3/lib/python3.10/site-packages/sklearn/ensemble/_base.py:166: FutureWarning: `base_estimator` was renamed to `estimator` in version 1.2 and will be removed in 1.4.\n",
      "  warnings.warn(\n",
      "/home/ec2-user/anaconda3/envs/python3/lib/python3.10/site-packages/sklearn/ensemble/_base.py:166: FutureWarning: `base_estimator` was renamed to `estimator` in version 1.2 and will be removed in 1.4.\n",
      "  warnings.warn(\n",
      "/home/ec2-user/anaconda3/envs/python3/lib/python3.10/site-packages/sklearn/ensemble/_base.py:166: FutureWarning: `base_estimator` was renamed to `estimator` in version 1.2 and will be removed in 1.4.\n",
      "  warnings.warn(\n",
      "/home/ec2-user/anaconda3/envs/python3/lib/python3.10/site-packages/sklearn/ensemble/_base.py:166: FutureWarning: `base_estimator` was renamed to `estimator` in version 1.2 and will be removed in 1.4.\n",
      "  warnings.warn(\n",
      "/home/ec2-user/anaconda3/envs/python3/lib/python3.10/site-packages/sklearn/ensemble/_base.py:166: FutureWarning: `base_estimator` was renamed to `estimator` in version 1.2 and will be removed in 1.4.\n",
      "  warnings.warn(\n",
      "/home/ec2-user/anaconda3/envs/python3/lib/python3.10/site-packages/sklearn/ensemble/_base.py:166: FutureWarning: `base_estimator` was renamed to `estimator` in version 1.2 and will be removed in 1.4.\n",
      "  warnings.warn(\n",
      "/home/ec2-user/anaconda3/envs/python3/lib/python3.10/site-packages/sklearn/ensemble/_base.py:166: FutureWarning: `base_estimator` was renamed to `estimator` in version 1.2 and will be removed in 1.4.\n",
      "  warnings.warn(\n",
      "/home/ec2-user/anaconda3/envs/python3/lib/python3.10/site-packages/sklearn/ensemble/_base.py:166: FutureWarning: `base_estimator` was renamed to `estimator` in version 1.2 and will be removed in 1.4.\n",
      "  warnings.warn(\n",
      "/home/ec2-user/anaconda3/envs/python3/lib/python3.10/site-packages/sklearn/ensemble/_base.py:166: FutureWarning: `base_estimator` was renamed to `estimator` in version 1.2 and will be removed in 1.4.\n",
      "  warnings.warn(\n",
      "/home/ec2-user/anaconda3/envs/python3/lib/python3.10/site-packages/sklearn/ensemble/_base.py:166: FutureWarning: `base_estimator` was renamed to `estimator` in version 1.2 and will be removed in 1.4.\n",
      "  warnings.warn(\n",
      "/home/ec2-user/anaconda3/envs/python3/lib/python3.10/site-packages/sklearn/ensemble/_base.py:166: FutureWarning: `base_estimator` was renamed to `estimator` in version 1.2 and will be removed in 1.4.\n",
      "  warnings.warn(\n",
      "/home/ec2-user/anaconda3/envs/python3/lib/python3.10/site-packages/sklearn/ensemble/_base.py:166: FutureWarning: `base_estimator` was renamed to `estimator` in version 1.2 and will be removed in 1.4.\n",
      "  warnings.warn(\n",
      "/home/ec2-user/anaconda3/envs/python3/lib/python3.10/site-packages/sklearn/ensemble/_base.py:166: FutureWarning: `base_estimator` was renamed to `estimator` in version 1.2 and will be removed in 1.4.\n",
      "  warnings.warn(\n",
      "/home/ec2-user/anaconda3/envs/python3/lib/python3.10/site-packages/sklearn/ensemble/_base.py:166: FutureWarning: `base_estimator` was renamed to `estimator` in version 1.2 and will be removed in 1.4.\n",
      "  warnings.warn(\n",
      "/home/ec2-user/anaconda3/envs/python3/lib/python3.10/site-packages/sklearn/ensemble/_base.py:166: FutureWarning: `base_estimator` was renamed to `estimator` in version 1.2 and will be removed in 1.4.\n",
      "  warnings.warn(\n",
      "/home/ec2-user/anaconda3/envs/python3/lib/python3.10/site-packages/sklearn/ensemble/_base.py:166: FutureWarning: `base_estimator` was renamed to `estimator` in version 1.2 and will be removed in 1.4.\n",
      "  warnings.warn(\n",
      "/home/ec2-user/anaconda3/envs/python3/lib/python3.10/site-packages/sklearn/ensemble/_base.py:166: FutureWarning: `base_estimator` was renamed to `estimator` in version 1.2 and will be removed in 1.4.\n",
      "  warnings.warn(\n",
      "/home/ec2-user/anaconda3/envs/python3/lib/python3.10/site-packages/sklearn/ensemble/_base.py:166: FutureWarning: `base_estimator` was renamed to `estimator` in version 1.2 and will be removed in 1.4.\n",
      "  warnings.warn(\n",
      "/home/ec2-user/anaconda3/envs/python3/lib/python3.10/site-packages/sklearn/ensemble/_base.py:166: FutureWarning: `base_estimator` was renamed to `estimator` in version 1.2 and will be removed in 1.4.\n",
      "  warnings.warn(\n",
      "/home/ec2-user/anaconda3/envs/python3/lib/python3.10/site-packages/sklearn/ensemble/_base.py:166: FutureWarning: `base_estimator` was renamed to `estimator` in version 1.2 and will be removed in 1.4.\n",
      "  warnings.warn(\n",
      "/home/ec2-user/anaconda3/envs/python3/lib/python3.10/site-packages/sklearn/ensemble/_base.py:166: FutureWarning: `base_estimator` was renamed to `estimator` in version 1.2 and will be removed in 1.4.\n",
      "  warnings.warn(\n",
      "/home/ec2-user/anaconda3/envs/python3/lib/python3.10/site-packages/sklearn/ensemble/_base.py:166: FutureWarning: `base_estimator` was renamed to `estimator` in version 1.2 and will be removed in 1.4.\n",
      "  warnings.warn(\n",
      "/home/ec2-user/anaconda3/envs/python3/lib/python3.10/site-packages/sklearn/ensemble/_base.py:166: FutureWarning: `base_estimator` was renamed to `estimator` in version 1.2 and will be removed in 1.4.\n",
      "  warnings.warn(\n",
      "/home/ec2-user/anaconda3/envs/python3/lib/python3.10/site-packages/sklearn/ensemble/_base.py:166: FutureWarning: `base_estimator` was renamed to `estimator` in version 1.2 and will be removed in 1.4.\n",
      "  warnings.warn(\n",
      "/home/ec2-user/anaconda3/envs/python3/lib/python3.10/site-packages/sklearn/ensemble/_base.py:166: FutureWarning: `base_estimator` was renamed to `estimator` in version 1.2 and will be removed in 1.4.\n",
      "  warnings.warn(\n",
      "/home/ec2-user/anaconda3/envs/python3/lib/python3.10/site-packages/sklearn/ensemble/_base.py:166: FutureWarning: `base_estimator` was renamed to `estimator` in version 1.2 and will be removed in 1.4.\n",
      "  warnings.warn(\n",
      "/home/ec2-user/anaconda3/envs/python3/lib/python3.10/site-packages/sklearn/ensemble/_base.py:166: FutureWarning: `base_estimator` was renamed to `estimator` in version 1.2 and will be removed in 1.4.\n",
      "  warnings.warn(\n"
     ]
    }
   ],
   "source": [
    "## defining hyperparameters to consider tuning\n",
    "ada_params = {'n_estimators': [100, 300],\n",
    "                 'base_estimator__min_samples_split': [10, 15],\n",
    "                 'base_estimator__min_samples_leaf': [5, 7],\n",
    "                 'base_estimator__max_depth': [3, 5, 7],\n",
    "                 'learning_rate': [0.001]}\n",
    "\n",
    "## creating customized scoring function\n",
    "my_score_function = make_scorer(cost_function, greater_is_better = True, needs_proba = True)\n",
    "\n",
    "## running GridsearchCV\n",
    "ada_random_search_1 = RandomizedSearchCV(estimator = AdaBoostClassifier(base_estimator = DecisionTreeClassifier()), \n",
    "                                   param_distributions = ada_params, \n",
    "                                   cv = 3, \n",
    "                                   scoring = my_score_function, \n",
    "                                   n_jobs = -1,\n",
    "                                   n_iter = 30).fit(x_train_top5, y_train)\n",
    "\n",
    "\n",
    "## extracting the best hyperparameter combinations\n",
    "ada_random_search_1.best_params_\n",
    "\n",
    "## extracting the best score\n",
    "ada_score_1 = ada_random_search_1.best_score_"
   ]
  },
  {
   "cell_type": "code",
   "execution_count": 14,
   "id": "013492cd-8375-4839-af16-693fae55c59a",
   "metadata": {
    "tags": []
   },
   "outputs": [
    {
     "name": "stdout",
     "output_type": "stream",
     "text": [
      "Best hyper-parameter combination {'n_estimators': 100, 'learning_rate': 0.001, 'base_estimator__min_samples_split': 10, 'base_estimator__min_samples_leaf': 5, 'base_estimator__max_depth': 7}\n",
      "Best score: -30.0\n"
     ]
    }
   ],
   "source": [
    "print('Best hyper-parameter combination', ada_random_search_1.best_params_)\n",
    "print('Best score:', ada_score_1)"
   ]
  },
  {
   "cell_type": "markdown",
   "id": "fc6f7b36-7c7b-4465-99e1-ed97a9ebb8af",
   "metadata": {},
   "source": [
    "#### model 2\n",
    "top 6 features"
   ]
  },
  {
   "cell_type": "code",
   "execution_count": 15,
   "id": "79b83874-9a38-4e4f-97df-da6bf89ae77c",
   "metadata": {
    "collapsed": true,
    "jupyter": {
     "outputs_hidden": true
    },
    "tags": []
   },
   "outputs": [
    {
     "name": "stderr",
     "output_type": "stream",
     "text": [
      "/home/ec2-user/anaconda3/envs/python3/lib/python3.10/site-packages/sklearn/ensemble/_base.py:166: FutureWarning: `base_estimator` was renamed to `estimator` in version 1.2 and will be removed in 1.4.\n",
      "  warnings.warn(\n",
      "/home/ec2-user/anaconda3/envs/python3/lib/python3.10/site-packages/sklearn/ensemble/_base.py:166: FutureWarning: `base_estimator` was renamed to `estimator` in version 1.2 and will be removed in 1.4.\n",
      "  warnings.warn(\n",
      "/home/ec2-user/anaconda3/envs/python3/lib/python3.10/site-packages/sklearn/ensemble/_base.py:166: FutureWarning: `base_estimator` was renamed to `estimator` in version 1.2 and will be removed in 1.4.\n",
      "  warnings.warn(\n",
      "/home/ec2-user/anaconda3/envs/python3/lib/python3.10/site-packages/sklearn/ensemble/_base.py:166: FutureWarning: `base_estimator` was renamed to `estimator` in version 1.2 and will be removed in 1.4.\n",
      "  warnings.warn(\n",
      "/home/ec2-user/anaconda3/envs/python3/lib/python3.10/site-packages/sklearn/ensemble/_base.py:166: FutureWarning: `base_estimator` was renamed to `estimator` in version 1.2 and will be removed in 1.4.\n",
      "  warnings.warn(\n",
      "/home/ec2-user/anaconda3/envs/python3/lib/python3.10/site-packages/sklearn/ensemble/_base.py:166: FutureWarning: `base_estimator` was renamed to `estimator` in version 1.2 and will be removed in 1.4.\n",
      "  warnings.warn(\n",
      "/home/ec2-user/anaconda3/envs/python3/lib/python3.10/site-packages/sklearn/ensemble/_base.py:166: FutureWarning: `base_estimator` was renamed to `estimator` in version 1.2 and will be removed in 1.4.\n",
      "  warnings.warn(\n",
      "/home/ec2-user/anaconda3/envs/python3/lib/python3.10/site-packages/sklearn/ensemble/_base.py:166: FutureWarning: `base_estimator` was renamed to `estimator` in version 1.2 and will be removed in 1.4.\n",
      "  warnings.warn(\n",
      "/home/ec2-user/anaconda3/envs/python3/lib/python3.10/site-packages/sklearn/ensemble/_base.py:166: FutureWarning: `base_estimator` was renamed to `estimator` in version 1.2 and will be removed in 1.4.\n",
      "  warnings.warn(\n",
      "/home/ec2-user/anaconda3/envs/python3/lib/python3.10/site-packages/sklearn/ensemble/_base.py:166: FutureWarning: `base_estimator` was renamed to `estimator` in version 1.2 and will be removed in 1.4.\n",
      "  warnings.warn(\n",
      "/home/ec2-user/anaconda3/envs/python3/lib/python3.10/site-packages/sklearn/ensemble/_base.py:166: FutureWarning: `base_estimator` was renamed to `estimator` in version 1.2 and will be removed in 1.4.\n",
      "  warnings.warn(\n",
      "/home/ec2-user/anaconda3/envs/python3/lib/python3.10/site-packages/sklearn/ensemble/_base.py:166: FutureWarning: `base_estimator` was renamed to `estimator` in version 1.2 and will be removed in 1.4.\n",
      "  warnings.warn(\n",
      "/home/ec2-user/anaconda3/envs/python3/lib/python3.10/site-packages/sklearn/ensemble/_base.py:166: FutureWarning: `base_estimator` was renamed to `estimator` in version 1.2 and will be removed in 1.4.\n",
      "  warnings.warn(\n",
      "/home/ec2-user/anaconda3/envs/python3/lib/python3.10/site-packages/sklearn/ensemble/_base.py:166: FutureWarning: `base_estimator` was renamed to `estimator` in version 1.2 and will be removed in 1.4.\n",
      "  warnings.warn(\n",
      "/home/ec2-user/anaconda3/envs/python3/lib/python3.10/site-packages/sklearn/ensemble/_base.py:166: FutureWarning: `base_estimator` was renamed to `estimator` in version 1.2 and will be removed in 1.4.\n",
      "  warnings.warn(\n",
      "/home/ec2-user/anaconda3/envs/python3/lib/python3.10/site-packages/sklearn/ensemble/_base.py:166: FutureWarning: `base_estimator` was renamed to `estimator` in version 1.2 and will be removed in 1.4.\n",
      "  warnings.warn(\n",
      "/home/ec2-user/anaconda3/envs/python3/lib/python3.10/site-packages/sklearn/ensemble/_base.py:166: FutureWarning: `base_estimator` was renamed to `estimator` in version 1.2 and will be removed in 1.4.\n",
      "  warnings.warn(\n",
      "/home/ec2-user/anaconda3/envs/python3/lib/python3.10/site-packages/sklearn/ensemble/_base.py:166: FutureWarning: `base_estimator` was renamed to `estimator` in version 1.2 and will be removed in 1.4.\n",
      "  warnings.warn(\n",
      "/home/ec2-user/anaconda3/envs/python3/lib/python3.10/site-packages/sklearn/ensemble/_base.py:166: FutureWarning: `base_estimator` was renamed to `estimator` in version 1.2 and will be removed in 1.4.\n",
      "  warnings.warn(\n",
      "/home/ec2-user/anaconda3/envs/python3/lib/python3.10/site-packages/sklearn/ensemble/_base.py:166: FutureWarning: `base_estimator` was renamed to `estimator` in version 1.2 and will be removed in 1.4.\n",
      "  warnings.warn(\n",
      "/home/ec2-user/anaconda3/envs/python3/lib/python3.10/site-packages/sklearn/ensemble/_base.py:166: FutureWarning: `base_estimator` was renamed to `estimator` in version 1.2 and will be removed in 1.4.\n",
      "  warnings.warn(\n",
      "/home/ec2-user/anaconda3/envs/python3/lib/python3.10/site-packages/sklearn/ensemble/_base.py:166: FutureWarning: `base_estimator` was renamed to `estimator` in version 1.2 and will be removed in 1.4.\n",
      "  warnings.warn(\n",
      "/home/ec2-user/anaconda3/envs/python3/lib/python3.10/site-packages/sklearn/ensemble/_base.py:166: FutureWarning: `base_estimator` was renamed to `estimator` in version 1.2 and will be removed in 1.4.\n",
      "  warnings.warn(\n",
      "/home/ec2-user/anaconda3/envs/python3/lib/python3.10/site-packages/sklearn/ensemble/_base.py:166: FutureWarning: `base_estimator` was renamed to `estimator` in version 1.2 and will be removed in 1.4.\n",
      "  warnings.warn(\n",
      "/home/ec2-user/anaconda3/envs/python3/lib/python3.10/site-packages/sklearn/ensemble/_base.py:166: FutureWarning: `base_estimator` was renamed to `estimator` in version 1.2 and will be removed in 1.4.\n",
      "  warnings.warn(\n",
      "/home/ec2-user/anaconda3/envs/python3/lib/python3.10/site-packages/sklearn/ensemble/_base.py:166: FutureWarning: `base_estimator` was renamed to `estimator` in version 1.2 and will be removed in 1.4.\n",
      "  warnings.warn(\n",
      "/home/ec2-user/anaconda3/envs/python3/lib/python3.10/site-packages/sklearn/ensemble/_base.py:166: FutureWarning: `base_estimator` was renamed to `estimator` in version 1.2 and will be removed in 1.4.\n",
      "  warnings.warn(\n",
      "/home/ec2-user/anaconda3/envs/python3/lib/python3.10/site-packages/sklearn/ensemble/_base.py:166: FutureWarning: `base_estimator` was renamed to `estimator` in version 1.2 and will be removed in 1.4.\n",
      "  warnings.warn(\n",
      "/home/ec2-user/anaconda3/envs/python3/lib/python3.10/site-packages/sklearn/ensemble/_base.py:166: FutureWarning: `base_estimator` was renamed to `estimator` in version 1.2 and will be removed in 1.4.\n",
      "  warnings.warn(\n",
      "/home/ec2-user/anaconda3/envs/python3/lib/python3.10/site-packages/sklearn/ensemble/_base.py:166: FutureWarning: `base_estimator` was renamed to `estimator` in version 1.2 and will be removed in 1.4.\n",
      "  warnings.warn(\n",
      "/home/ec2-user/anaconda3/envs/python3/lib/python3.10/site-packages/sklearn/ensemble/_base.py:166: FutureWarning: `base_estimator` was renamed to `estimator` in version 1.2 and will be removed in 1.4.\n",
      "  warnings.warn(\n"
     ]
    }
   ],
   "source": [
    "## defining hyperparameters to consider tuning\n",
    "ada_params = {'n_estimators': [100, 300],\n",
    "                 'base_estimator__min_samples_split': [10, 15],\n",
    "                 'base_estimator__min_samples_leaf': [5, 7],\n",
    "                 'base_estimator__max_depth': [3, 5, 7],\n",
    "                 'learning_rate': [0.001]}\n",
    "\n",
    "## creating customized scoring function\n",
    "my_score_function = make_scorer(cost_function, greater_is_better = True, needs_proba = True)\n",
    "\n",
    "## running GridsearchCV\n",
    "ada_random_search_2 = RandomizedSearchCV(estimator = AdaBoostClassifier(base_estimator = DecisionTreeClassifier()),\n",
    "                               param_distributions = ada_params, cv = 3, scoring = my_score_function, n_jobs = -1).fit(x_train_top6, y_train)\n",
    "\n",
    "## extracting the best hyperparameter combinations\n",
    "ada_random_search_2.best_params_\n",
    "\n",
    "## extracting the best score\n",
    "ada_score_2 = ada_random_search_2.best_score_"
   ]
  },
  {
   "cell_type": "code",
   "execution_count": 16,
   "id": "3a9f7784-a39c-4ef4-a0e7-abeb29abb7ed",
   "metadata": {
    "tags": []
   },
   "outputs": [],
   "source": [
    "## extracting the best score\n",
    "ada_score_2 = ada_random_search_2.best_score_"
   ]
  },
  {
   "cell_type": "code",
   "execution_count": 17,
   "id": "55dcf750-5eb3-4d9f-8a73-d371ab7d7229",
   "metadata": {
    "tags": []
   },
   "outputs": [
    {
     "data": {
      "text/plain": [
       "-30.0"
      ]
     },
     "execution_count": 17,
     "metadata": {},
     "output_type": "execute_result"
    }
   ],
   "source": [
    "ada_score_2"
   ]
  },
  {
   "cell_type": "code",
   "execution_count": 18,
   "id": "a91fb7f6-563d-464f-9df4-0dab244cf589",
   "metadata": {
    "tags": []
   },
   "outputs": [
    {
     "name": "stdout",
     "output_type": "stream",
     "text": [
      "Best hyper-parameter combination {'n_estimators': 300, 'learning_rate': 0.001, 'base_estimator__min_samples_split': 10, 'base_estimator__min_samples_leaf': 5, 'base_estimator__max_depth': 5}\n",
      "Best score: -30.0\n"
     ]
    }
   ],
   "source": [
    "print('Best hyper-parameter combination', ada_random_search_2.best_params_)\n",
    "print('Best score:', ada_score_2)"
   ]
  },
  {
   "cell_type": "markdown",
   "id": "14ccb323-9d86-43d6-a17f-20964e0585bf",
   "metadata": {},
   "source": [
    "#### model 3\n",
    "top 7 features"
   ]
  },
  {
   "cell_type": "code",
   "execution_count": 19,
   "id": "16dd8049-df40-49a1-abb2-5e948b665ea0",
   "metadata": {
    "collapsed": true,
    "jupyter": {
     "outputs_hidden": true
    },
    "tags": []
   },
   "outputs": [
    {
     "name": "stderr",
     "output_type": "stream",
     "text": [
      "/home/ec2-user/anaconda3/envs/python3/lib/python3.10/site-packages/sklearn/ensemble/_base.py:166: FutureWarning: `base_estimator` was renamed to `estimator` in version 1.2 and will be removed in 1.4.\n",
      "  warnings.warn(\n",
      "/home/ec2-user/anaconda3/envs/python3/lib/python3.10/site-packages/sklearn/ensemble/_base.py:166: FutureWarning: `base_estimator` was renamed to `estimator` in version 1.2 and will be removed in 1.4.\n",
      "  warnings.warn(\n",
      "/home/ec2-user/anaconda3/envs/python3/lib/python3.10/site-packages/sklearn/ensemble/_base.py:166: FutureWarning: `base_estimator` was renamed to `estimator` in version 1.2 and will be removed in 1.4.\n",
      "  warnings.warn(\n",
      "/home/ec2-user/anaconda3/envs/python3/lib/python3.10/site-packages/sklearn/ensemble/_base.py:166: FutureWarning: `base_estimator` was renamed to `estimator` in version 1.2 and will be removed in 1.4.\n",
      "  warnings.warn(\n",
      "/home/ec2-user/anaconda3/envs/python3/lib/python3.10/site-packages/sklearn/ensemble/_base.py:166: FutureWarning: `base_estimator` was renamed to `estimator` in version 1.2 and will be removed in 1.4.\n",
      "  warnings.warn(\n",
      "/home/ec2-user/anaconda3/envs/python3/lib/python3.10/site-packages/sklearn/ensemble/_base.py:166: FutureWarning: `base_estimator` was renamed to `estimator` in version 1.2 and will be removed in 1.4.\n",
      "  warnings.warn(\n",
      "/home/ec2-user/anaconda3/envs/python3/lib/python3.10/site-packages/sklearn/ensemble/_base.py:166: FutureWarning: `base_estimator` was renamed to `estimator` in version 1.2 and will be removed in 1.4.\n",
      "  warnings.warn(\n",
      "/home/ec2-user/anaconda3/envs/python3/lib/python3.10/site-packages/sklearn/ensemble/_base.py:166: FutureWarning: `base_estimator` was renamed to `estimator` in version 1.2 and will be removed in 1.4.\n",
      "  warnings.warn(\n",
      "/home/ec2-user/anaconda3/envs/python3/lib/python3.10/site-packages/sklearn/ensemble/_base.py:166: FutureWarning: `base_estimator` was renamed to `estimator` in version 1.2 and will be removed in 1.4.\n",
      "  warnings.warn(\n",
      "/home/ec2-user/anaconda3/envs/python3/lib/python3.10/site-packages/sklearn/ensemble/_base.py:166: FutureWarning: `base_estimator` was renamed to `estimator` in version 1.2 and will be removed in 1.4.\n",
      "  warnings.warn(\n",
      "/home/ec2-user/anaconda3/envs/python3/lib/python3.10/site-packages/sklearn/ensemble/_base.py:166: FutureWarning: `base_estimator` was renamed to `estimator` in version 1.2 and will be removed in 1.4.\n",
      "  warnings.warn(\n",
      "/home/ec2-user/anaconda3/envs/python3/lib/python3.10/site-packages/sklearn/ensemble/_base.py:166: FutureWarning: `base_estimator` was renamed to `estimator` in version 1.2 and will be removed in 1.4.\n",
      "  warnings.warn(\n",
      "/home/ec2-user/anaconda3/envs/python3/lib/python3.10/site-packages/sklearn/ensemble/_base.py:166: FutureWarning: `base_estimator` was renamed to `estimator` in version 1.2 and will be removed in 1.4.\n",
      "  warnings.warn(\n",
      "/home/ec2-user/anaconda3/envs/python3/lib/python3.10/site-packages/sklearn/ensemble/_base.py:166: FutureWarning: `base_estimator` was renamed to `estimator` in version 1.2 and will be removed in 1.4.\n",
      "  warnings.warn(\n",
      "/home/ec2-user/anaconda3/envs/python3/lib/python3.10/site-packages/sklearn/ensemble/_base.py:166: FutureWarning: `base_estimator` was renamed to `estimator` in version 1.2 and will be removed in 1.4.\n",
      "  warnings.warn(\n",
      "/home/ec2-user/anaconda3/envs/python3/lib/python3.10/site-packages/sklearn/ensemble/_base.py:166: FutureWarning: `base_estimator` was renamed to `estimator` in version 1.2 and will be removed in 1.4.\n",
      "  warnings.warn(\n",
      "/home/ec2-user/anaconda3/envs/python3/lib/python3.10/site-packages/sklearn/ensemble/_base.py:166: FutureWarning: `base_estimator` was renamed to `estimator` in version 1.2 and will be removed in 1.4.\n",
      "  warnings.warn(\n",
      "/home/ec2-user/anaconda3/envs/python3/lib/python3.10/site-packages/sklearn/ensemble/_base.py:166: FutureWarning: `base_estimator` was renamed to `estimator` in version 1.2 and will be removed in 1.4.\n",
      "  warnings.warn(\n",
      "/home/ec2-user/anaconda3/envs/python3/lib/python3.10/site-packages/sklearn/ensemble/_base.py:166: FutureWarning: `base_estimator` was renamed to `estimator` in version 1.2 and will be removed in 1.4.\n",
      "  warnings.warn(\n",
      "/home/ec2-user/anaconda3/envs/python3/lib/python3.10/site-packages/sklearn/ensemble/_base.py:166: FutureWarning: `base_estimator` was renamed to `estimator` in version 1.2 and will be removed in 1.4.\n",
      "  warnings.warn(\n",
      "/home/ec2-user/anaconda3/envs/python3/lib/python3.10/site-packages/sklearn/ensemble/_base.py:166: FutureWarning: `base_estimator` was renamed to `estimator` in version 1.2 and will be removed in 1.4.\n",
      "  warnings.warn(\n",
      "/home/ec2-user/anaconda3/envs/python3/lib/python3.10/site-packages/sklearn/ensemble/_base.py:166: FutureWarning: `base_estimator` was renamed to `estimator` in version 1.2 and will be removed in 1.4.\n",
      "  warnings.warn(\n",
      "/home/ec2-user/anaconda3/envs/python3/lib/python3.10/site-packages/sklearn/ensemble/_base.py:166: FutureWarning: `base_estimator` was renamed to `estimator` in version 1.2 and will be removed in 1.4.\n",
      "  warnings.warn(\n",
      "/home/ec2-user/anaconda3/envs/python3/lib/python3.10/site-packages/sklearn/ensemble/_base.py:166: FutureWarning: `base_estimator` was renamed to `estimator` in version 1.2 and will be removed in 1.4.\n",
      "  warnings.warn(\n",
      "/home/ec2-user/anaconda3/envs/python3/lib/python3.10/site-packages/sklearn/ensemble/_base.py:166: FutureWarning: `base_estimator` was renamed to `estimator` in version 1.2 and will be removed in 1.4.\n",
      "  warnings.warn(\n",
      "/home/ec2-user/anaconda3/envs/python3/lib/python3.10/site-packages/sklearn/ensemble/_base.py:166: FutureWarning: `base_estimator` was renamed to `estimator` in version 1.2 and will be removed in 1.4.\n",
      "  warnings.warn(\n",
      "/home/ec2-user/anaconda3/envs/python3/lib/python3.10/site-packages/sklearn/ensemble/_base.py:166: FutureWarning: `base_estimator` was renamed to `estimator` in version 1.2 and will be removed in 1.4.\n",
      "  warnings.warn(\n",
      "/home/ec2-user/anaconda3/envs/python3/lib/python3.10/site-packages/sklearn/ensemble/_base.py:166: FutureWarning: `base_estimator` was renamed to `estimator` in version 1.2 and will be removed in 1.4.\n",
      "  warnings.warn(\n",
      "/home/ec2-user/anaconda3/envs/python3/lib/python3.10/site-packages/sklearn/ensemble/_base.py:166: FutureWarning: `base_estimator` was renamed to `estimator` in version 1.2 and will be removed in 1.4.\n",
      "  warnings.warn(\n",
      "/home/ec2-user/anaconda3/envs/python3/lib/python3.10/site-packages/sklearn/ensemble/_base.py:166: FutureWarning: `base_estimator` was renamed to `estimator` in version 1.2 and will be removed in 1.4.\n",
      "  warnings.warn(\n",
      "/home/ec2-user/anaconda3/envs/python3/lib/python3.10/site-packages/sklearn/ensemble/_base.py:166: FutureWarning: `base_estimator` was renamed to `estimator` in version 1.2 and will be removed in 1.4.\n",
      "  warnings.warn(\n"
     ]
    }
   ],
   "source": [
    "## defining hyperparameters to consider tuning\n",
    "ada_params = {'n_estimators': [100, 300],\n",
    "                 'base_estimator__min_samples_split': [10, 15],\n",
    "                 'base_estimator__min_samples_leaf': [5, 7],\n",
    "                 'base_estimator__max_depth': [3, 5, 7],\n",
    "                 'learning_rate': [0.001]}\n",
    "\n",
    "## creating customized scoring function\n",
    "my_score_function = make_scorer(cost_function, greater_is_better = True, needs_proba = True)\n",
    "\n",
    "## running GridsearchCV\n",
    "ada_random_search_3 = RandomizedSearchCV(estimator = AdaBoostClassifier(base_estimator = DecisionTreeClassifier()),\n",
    "                               param_distributions = ada_params, cv = 3, scoring = my_score_function, n_jobs = -1).fit(x_train_top7, y_train)\n",
    "\n",
    "## extracting the best hyperparameter combinations\n",
    "ada_random_search_3.best_params_\n",
    "\n",
    "## extracting the best score\n",
    "ada_score_3 = ada_random_search_3.best_score_"
   ]
  },
  {
   "cell_type": "code",
   "execution_count": 20,
   "id": "651383ef-f732-427b-8a56-676db061b93d",
   "metadata": {
    "tags": []
   },
   "outputs": [
    {
     "name": "stdout",
     "output_type": "stream",
     "text": [
      "Best hyper-parameter combo {'n_estimators': 300, 'learning_rate': 0.001, 'base_estimator__min_samples_split': 15, 'base_estimator__min_samples_leaf': 5, 'base_estimator__max_depth': 7}\n",
      "Best score: -16.666666666666668\n"
     ]
    }
   ],
   "source": [
    "print('Best hyper-parameter combo', ada_random_search_3.best_params_)\n",
    "print('Best score:', ada_score_3)"
   ]
  },
  {
   "cell_type": "markdown",
   "id": "5c4a4bc4-83e5-43ac-bfed-8b87bc972422",
   "metadata": {},
   "source": [
    "### iii) Optuna: LightGBM"
   ]
  },
  {
   "cell_type": "markdown",
   "id": "6f8d5f73-c191-45b9-bafa-498db95a3912",
   "metadata": {},
   "source": [
    "##### model 1\n",
    "\n",
    "top 5 features"
   ]
  },
  {
   "cell_type": "code",
   "execution_count": 21,
   "id": "0c170b0a-3fea-46a5-a0c1-03c09143b682",
   "metadata": {
    "tags": []
   },
   "outputs": [],
   "source": [
    "class Objective:\n",
    "    def __init__(self, seed):\n",
    "        self.seed = seed\n",
    "        \n",
    "    def __call__(self, trial):\n",
    "    ## Parameters to be evaluated\n",
    "        params = dict(n_estimators = trial.suggest_int('n_estimators', 100, 2000),\n",
    "            min_samples_split = trial.suggest_int('min_samples_split', 5, 30),\n",
    "            min_samples_leaf = trial.suggest_int('min_samples_leaf', 5, 30),\n",
    "            max_depth = trial.suggest_int('max_depth', 2, 10)\n",
    "            )\n",
    "        scores= list()\n",
    "         \n",
    "        #Running cross validation\n",
    "        skf = StratifiedKFold(n_splits = 3, shuffle = True, random_state = self.seed)\n",
    "       \n",
    "        for train_idx, valid_idx in skf.split(x_train_top5, y_train):\n",
    "            x_train_1, x_valid_1 = x_train_top5.iloc[train_idx], x_train_top5.iloc[valid_idx]\n",
    "            y_train_1 , y_valid_1 = y_train.iloc[train_idx] , y_train.iloc[valid_idx]\n",
    "         \n",
    "            rf_md = RandomForestClassifier(**params).fit(x_train_1, y_train_1)\n",
    "         \n",
    "            preds_valid = rf_md.predict_proba(x_valid_1)[:,1]\n",
    "            \n",
    "            score = cost_function(y_valid_1, preds_valid)\n",
    "            \n",
    "            scores.append(score)\n",
    "         \n",
    "        return np.mean(scores)"
   ]
  },
  {
   "cell_type": "code",
   "execution_count": 22,
   "id": "d25e778b-0e6b-4dff-ab35-27f7cd4aa077",
   "metadata": {
    "collapsed": true,
    "jupyter": {
     "outputs_hidden": true
    },
    "tags": []
   },
   "outputs": [
    {
     "name": "stderr",
     "output_type": "stream",
     "text": [
      "\u001b[32m[I 2023-03-31 18:39:23,868]\u001b[0m A new study created in memory with name: no-name-2f788cb7-9494-4747-8d1a-4ba80fac5820\u001b[0m\n",
      "\u001b[32m[I 2023-03-31 18:39:27,930]\u001b[0m Trial 0 finished with value: -51.666666666666664 and parameters: {'n_estimators': 517, 'min_samples_split': 10, 'min_samples_leaf': 12, 'max_depth': 9}. Best is trial 0 with value: -51.666666666666664.\u001b[0m\n",
      "\u001b[32m[I 2023-03-31 18:39:38,401]\u001b[0m Trial 1 finished with value: -45.0 and parameters: {'n_estimators': 1440, 'min_samples_split': 26, 'min_samples_leaf': 5, 'max_depth': 6}. Best is trial 1 with value: -45.0.\u001b[0m\n",
      "\u001b[32m[I 2023-03-31 18:39:51,207]\u001b[0m Trial 2 finished with value: -56.666666666666664 and parameters: {'n_estimators': 1833, 'min_samples_split': 11, 'min_samples_leaf': 17, 'max_depth': 3}. Best is trial 1 with value: -45.0.\u001b[0m\n",
      "\u001b[32m[I 2023-03-31 18:39:58,460]\u001b[0m Trial 3 finished with value: -45.0 and parameters: {'n_estimators': 990, 'min_samples_split': 28, 'min_samples_leaf': 10, 'max_depth': 5}. Best is trial 1 with value: -45.0.\u001b[0m\n",
      "\u001b[32m[I 2023-03-31 18:40:08,502]\u001b[0m Trial 4 finished with value: -56.666666666666664 and parameters: {'n_estimators': 1431, 'min_samples_split': 13, 'min_samples_leaf': 14, 'max_depth': 7}. Best is trial 1 with value: -45.0.\u001b[0m\n",
      "\u001b[32m[I 2023-03-31 18:40:17,168]\u001b[0m Trial 5 finished with value: -33.333333333333336 and parameters: {'n_estimators': 1237, 'min_samples_split': 7, 'min_samples_leaf': 7, 'max_depth': 10}. Best is trial 5 with value: -33.333333333333336.\u001b[0m\n",
      "\u001b[32m[I 2023-03-31 18:40:27,719]\u001b[0m Trial 6 finished with value: -100.0 and parameters: {'n_estimators': 1564, 'min_samples_split': 14, 'min_samples_leaf': 25, 'max_depth': 2}. Best is trial 5 with value: -33.333333333333336.\u001b[0m\n",
      "\u001b[32m[I 2023-03-31 18:40:34,861]\u001b[0m Trial 7 finished with value: -53.333333333333336 and parameters: {'n_estimators': 990, 'min_samples_split': 18, 'min_samples_leaf': 17, 'max_depth': 7}. Best is trial 5 with value: -33.333333333333336.\u001b[0m\n",
      "\u001b[32m[I 2023-03-31 18:40:43,556]\u001b[0m Trial 8 finished with value: -55.0 and parameters: {'n_estimators': 1254, 'min_samples_split': 11, 'min_samples_leaf': 16, 'max_depth': 9}. Best is trial 5 with value: -33.333333333333336.\u001b[0m\n",
      "\u001b[32m[I 2023-03-31 18:40:56,378]\u001b[0m Trial 9 finished with value: -51.666666666666664 and parameters: {'n_estimators': 1853, 'min_samples_split': 11, 'min_samples_leaf': 11, 'max_depth': 5}. Best is trial 5 with value: -33.333333333333336.\u001b[0m\n",
      "\u001b[32m[I 2023-03-31 18:40:57,655]\u001b[0m Trial 10 finished with value: -51.666666666666664 and parameters: {'n_estimators': 154, 'min_samples_split': 5, 'min_samples_leaf': 24, 'max_depth': 10}. Best is trial 5 with value: -33.333333333333336.\u001b[0m\n",
      "\u001b[32m[I 2023-03-31 18:41:03,098]\u001b[0m Trial 11 finished with value: -48.333333333333336 and parameters: {'n_estimators': 739, 'min_samples_split': 25, 'min_samples_leaf': 5, 'max_depth': 7}. Best is trial 5 with value: -33.333333333333336.\u001b[0m\n",
      "\u001b[32m[I 2023-03-31 18:41:12,750]\u001b[0m Trial 12 finished with value: -51.666666666666664 and parameters: {'n_estimators': 1348, 'min_samples_split': 22, 'min_samples_leaf': 5, 'max_depth': 5}. Best is trial 5 with value: -33.333333333333336.\u001b[0m\n",
      "/home/ec2-user/anaconda3/envs/python3/lib/python3.10/site-packages/optuna/samplers/_tpe/_erf.py:132: RuntimeWarning: divide by zero encountered in true_divide\n",
      "  s = one / (x * x)\n",
      "\u001b[32m[I 2023-03-31 18:41:24,610]\u001b[0m Trial 13 finished with value: -38.333333333333336 and parameters: {'n_estimators': 1648, 'min_samples_split': 20, 'min_samples_leaf': 8, 'max_depth': 8}. Best is trial 5 with value: -33.333333333333336.\u001b[0m\n",
      "\u001b[32m[I 2023-03-31 18:41:38,947]\u001b[0m Trial 14 finished with value: -38.333333333333336 and parameters: {'n_estimators': 1990, 'min_samples_split': 18, 'min_samples_leaf': 9, 'max_depth': 10}. Best is trial 5 with value: -33.333333333333336.\u001b[0m\n",
      "\u001b[32m[I 2023-03-31 18:41:50,892]\u001b[0m Trial 15 finished with value: -63.333333333333336 and parameters: {'n_estimators': 1645, 'min_samples_split': 6, 'min_samples_leaf': 30, 'max_depth': 8}. Best is trial 5 with value: -33.333333333333336.\u001b[0m\n",
      "\u001b[32m[I 2023-03-31 18:41:59,020]\u001b[0m Trial 16 finished with value: -51.666666666666664 and parameters: {'n_estimators': 1140, 'min_samples_split': 21, 'min_samples_leaf': 21, 'max_depth': 9}. Best is trial 5 with value: -33.333333333333336.\u001b[0m\n",
      "\u001b[32m[I 2023-03-31 18:42:04,359]\u001b[0m Trial 17 finished with value: -33.333333333333336 and parameters: {'n_estimators': 757, 'min_samples_split': 16, 'min_samples_leaf': 8, 'max_depth': 8}. Best is trial 5 with value: -33.333333333333336.\u001b[0m\n",
      "\u001b[32m[I 2023-03-31 18:42:09,006]\u001b[0m Trial 18 finished with value: -40.0 and parameters: {'n_estimators': 622, 'min_samples_split': 8, 'min_samples_leaf': 8, 'max_depth': 10}. Best is trial 5 with value: -33.333333333333336.\u001b[0m\n",
      "/home/ec2-user/anaconda3/envs/python3/lib/python3.10/site-packages/optuna/samplers/_tpe/_erf.py:132: RuntimeWarning: divide by zero encountered in true_divide\n",
      "  s = one / (x * x)\n",
      "\u001b[32m[I 2023-03-31 18:42:14,993]\u001b[0m Trial 19 finished with value: -46.666666666666664 and parameters: {'n_estimators': 846, 'min_samples_split': 16, 'min_samples_leaf': 13, 'max_depth': 8}. Best is trial 5 with value: -33.333333333333336.\u001b[0m\n",
      "\u001b[32m[I 2023-03-31 18:42:17,389]\u001b[0m Trial 20 finished with value: -60.0 and parameters: {'n_estimators': 319, 'min_samples_split': 30, 'min_samples_leaf': 21, 'max_depth': 9}. Best is trial 5 with value: -33.333333333333336.\u001b[0m\n",
      "\u001b[32m[I 2023-03-31 18:42:25,812]\u001b[0m Trial 21 finished with value: -41.666666666666664 and parameters: {'n_estimators': 1152, 'min_samples_split': 22, 'min_samples_leaf': 8, 'max_depth': 8}. Best is trial 5 with value: -33.333333333333336.\u001b[0m\n",
      "\u001b[32m[I 2023-03-31 18:42:37,390]\u001b[0m Trial 22 finished with value: -48.333333333333336 and parameters: {'n_estimators': 1663, 'min_samples_split': 20, 'min_samples_leaf': 7, 'max_depth': 8}. Best is trial 5 with value: -33.333333333333336.\u001b[0m\n",
      "\u001b[32m[I 2023-03-31 18:42:43,449]\u001b[0m Trial 23 finished with value: -50.0 and parameters: {'n_estimators': 842, 'min_samples_split': 15, 'min_samples_leaf': 14, 'max_depth': 6}. Best is trial 5 with value: -33.333333333333336.\u001b[0m\n",
      "\u001b[32m[I 2023-03-31 18:42:46,926]\u001b[0m Trial 24 finished with value: -48.333333333333336 and parameters: {'n_estimators': 457, 'min_samples_split': 24, 'min_samples_leaf': 7, 'max_depth': 10}. Best is trial 5 with value: -33.333333333333336.\u001b[0m\n",
      "\u001b[32m[I 2023-03-31 18:42:55,982]\u001b[0m Trial 25 finished with value: -48.333333333333336 and parameters: {'n_estimators': 1235, 'min_samples_split': 8, 'min_samples_leaf': 10, 'max_depth': 6}. Best is trial 5 with value: -33.333333333333336.\u001b[0m\n",
      "\u001b[32m[I 2023-03-31 18:43:01,889]\u001b[0m Trial 26 finished with value: -41.666666666666664 and parameters: {'n_estimators': 829, 'min_samples_split': 17, 'min_samples_leaf': 7, 'max_depth': 9}. Best is trial 5 with value: -33.333333333333336.\u001b[0m\n",
      "\u001b[32m[I 2023-03-31 18:43:12,204]\u001b[0m Trial 27 finished with value: -46.666666666666664 and parameters: {'n_estimators': 1508, 'min_samples_split': 19, 'min_samples_leaf': 12, 'max_depth': 7}. Best is trial 5 with value: -33.333333333333336.\u001b[0m\n",
      "\u001b[32m[I 2023-03-31 18:43:19,470]\u001b[0m Trial 28 finished with value: -58.333333333333336 and parameters: {'n_estimators': 1001, 'min_samples_split': 13, 'min_samples_leaf': 20, 'max_depth': 8}. Best is trial 5 with value: -33.333333333333336.\u001b[0m\n",
      "\u001b[32m[I 2023-03-31 18:43:23,903]\u001b[0m Trial 29 finished with value: -45.0 and parameters: {'n_estimators': 603, 'min_samples_split': 24, 'min_samples_leaf': 12, 'max_depth': 4}. Best is trial 5 with value: -33.333333333333336.\u001b[0m\n"
     ]
    }
   ],
   "source": [
    "seed = 42\n",
    "n_trials = 30\n",
    "\n",
    "study_1 = optuna.create_study(direction = 'maximize')\n",
    "study_1.optimize(Objective(seed), n_trials = n_trials)"
   ]
  },
  {
   "cell_type": "code",
   "execution_count": 23,
   "id": "56558031-ca58-45b4-a64b-df08d67ee852",
   "metadata": {
    "tags": []
   },
   "outputs": [
    {
     "data": {
      "text/plain": [
       "{'n_estimators': 1237,\n",
       " 'min_samples_split': 7,\n",
       " 'min_samples_leaf': 7,\n",
       " 'max_depth': 10}"
      ]
     },
     "execution_count": 23,
     "metadata": {},
     "output_type": "execute_result"
    }
   ],
   "source": [
    "study_1.best_trial.params"
   ]
  },
  {
   "cell_type": "markdown",
   "id": "4159b2be-75f2-4fc0-b233-4892df23ca13",
   "metadata": {},
   "source": [
    "##### model 2\n",
    "\n",
    "top 6 features"
   ]
  },
  {
   "cell_type": "code",
   "execution_count": 24,
   "id": "2c7afc26-7c37-4c38-a303-dd64c4a0a0c0",
   "metadata": {
    "tags": []
   },
   "outputs": [],
   "source": [
    "class Objective:\n",
    "    def __init__(self, seed):\n",
    "        self.seed = seed\n",
    "        \n",
    "    def __call__(self, trial):\n",
    "    ## Parameters to be evaluated\n",
    "        params = dict(n_estimators = trial.suggest_int('n_estimators', 100, 2000),\n",
    "            min_samples_split = trial.suggest_int('min_samples_split', 5, 30),\n",
    "            min_samples_leaf = trial.suggest_int('min_samples_leaf', 5, 30),\n",
    "            max_depth = trial.suggest_int('max_depth', 2, 10)\n",
    "            )\n",
    "        scores= list()\n",
    "         \n",
    "        #Running cross validation\n",
    "        skf = StratifiedKFold(n_splits = 3, shuffle = True, random_state = self.seed)\n",
    "       \n",
    "        for train_idx, valid_idx in skf.split(x_train_top6, y_train):\n",
    "            x_train_2, x_valid_2 = x_train_top6.iloc[train_idx], x_train_top6.iloc[valid_idx]\n",
    "            y_train_2 , y_valid_2 = y_train.iloc[train_idx] , y_train.iloc[valid_idx]\n",
    "         \n",
    "            rf_md = RandomForestClassifier(**params).fit(x_train_2, y_train_2)\n",
    "         \n",
    "            preds_valid = rf_md.predict_proba(x_valid_2)[:,1]\n",
    "            \n",
    "            score = cost_function(y_valid_2, preds_valid)\n",
    "            \n",
    "            scores.append(score)\n",
    "         \n",
    "        return np.mean(scores)"
   ]
  },
  {
   "cell_type": "code",
   "execution_count": 25,
   "id": "22bf7456-c837-45b2-9acd-5723a8c751c9",
   "metadata": {
    "collapsed": true,
    "jupyter": {
     "outputs_hidden": true
    },
    "tags": []
   },
   "outputs": [
    {
     "name": "stderr",
     "output_type": "stream",
     "text": [
      "\u001b[32m[I 2023-03-31 18:43:23,927]\u001b[0m A new study created in memory with name: no-name-08b2d734-9634-4c56-ba18-520c7fc121cd\u001b[0m\n",
      "\u001b[32m[I 2023-03-31 18:43:26,834]\u001b[0m Trial 0 finished with value: -88.33333333333333 and parameters: {'n_estimators': 361, 'min_samples_split': 8, 'min_samples_leaf': 30, 'max_depth': 6}. Best is trial 0 with value: -88.33333333333333.\u001b[0m\n",
      "\u001b[32m[I 2023-03-31 18:43:28,001]\u001b[0m Trial 1 finished with value: -56.666666666666664 and parameters: {'n_estimators': 141, 'min_samples_split': 30, 'min_samples_leaf': 11, 'max_depth': 9}. Best is trial 1 with value: -56.666666666666664.\u001b[0m\n",
      "\u001b[32m[I 2023-03-31 18:43:30,029]\u001b[0m Trial 2 finished with value: -103.33333333333333 and parameters: {'n_estimators': 275, 'min_samples_split': 28, 'min_samples_leaf': 25, 'max_depth': 2}. Best is trial 1 with value: -56.666666666666664.\u001b[0m\n",
      "\u001b[32m[I 2023-03-31 18:43:44,045]\u001b[0m Trial 3 finished with value: -80.0 and parameters: {'n_estimators': 1957, 'min_samples_split': 9, 'min_samples_leaf': 26, 'max_depth': 5}. Best is trial 1 with value: -56.666666666666664.\u001b[0m\n",
      "\u001b[32m[I 2023-03-31 18:43:54,585]\u001b[0m Trial 4 finished with value: -96.66666666666667 and parameters: {'n_estimators': 1583, 'min_samples_split': 8, 'min_samples_leaf': 20, 'max_depth': 2}. Best is trial 1 with value: -56.666666666666664.\u001b[0m\n",
      "\u001b[32m[I 2023-03-31 18:44:06,050]\u001b[0m Trial 5 finished with value: -71.66666666666667 and parameters: {'n_estimators': 1604, 'min_samples_split': 27, 'min_samples_leaf': 18, 'max_depth': 7}. Best is trial 1 with value: -56.666666666666664.\u001b[0m\n",
      "\u001b[32m[I 2023-03-31 18:44:18,421]\u001b[0m Trial 6 finished with value: -78.33333333333333 and parameters: {'n_estimators': 1772, 'min_samples_split': 5, 'min_samples_leaf': 22, 'max_depth': 6}. Best is trial 1 with value: -56.666666666666664.\u001b[0m\n",
      "\u001b[32m[I 2023-03-31 18:44:23,847]\u001b[0m Trial 7 finished with value: -65.0 and parameters: {'n_estimators': 759, 'min_samples_split': 10, 'min_samples_leaf': 9, 'max_depth': 3}. Best is trial 1 with value: -56.666666666666664.\u001b[0m\n",
      "\u001b[32m[I 2023-03-31 18:44:31,332]\u001b[0m Trial 8 finished with value: -61.666666666666664 and parameters: {'n_estimators': 1031, 'min_samples_split': 8, 'min_samples_leaf': 20, 'max_depth': 4}. Best is trial 1 with value: -56.666666666666664.\u001b[0m\n",
      "\u001b[32m[I 2023-03-31 18:44:37,470]\u001b[0m Trial 9 finished with value: -85.0 and parameters: {'n_estimators': 846, 'min_samples_split': 9, 'min_samples_leaf': 25, 'max_depth': 8}. Best is trial 1 with value: -56.666666666666664.\u001b[0m\n",
      "\u001b[32m[I 2023-03-31 18:44:38,786]\u001b[0m Trial 10 finished with value: -60.0 and parameters: {'n_estimators': 156, 'min_samples_split': 21, 'min_samples_leaf': 10, 'max_depth': 10}. Best is trial 1 with value: -56.666666666666664.\u001b[0m\n",
      "\u001b[32m[I 2023-03-31 18:44:40,323]\u001b[0m Trial 11 finished with value: -58.333333333333336 and parameters: {'n_estimators': 196, 'min_samples_split': 21, 'min_samples_leaf': 11, 'max_depth': 10}. Best is trial 1 with value: -56.666666666666664.\u001b[0m\n",
      "\u001b[32m[I 2023-03-31 18:44:44,390]\u001b[0m Trial 12 finished with value: -63.333333333333336 and parameters: {'n_estimators': 539, 'min_samples_split': 22, 'min_samples_leaf': 13, 'max_depth': 10}. Best is trial 1 with value: -56.666666666666664.\u001b[0m\n",
      "\u001b[32m[I 2023-03-31 18:44:45,241]\u001b[0m Trial 13 finished with value: -35.0 and parameters: {'n_estimators': 100, 'min_samples_split': 16, 'min_samples_leaf': 5, 'max_depth': 9}. Best is trial 13 with value: -35.0.\u001b[0m\n",
      "\u001b[32m[I 2023-03-31 18:44:49,289]\u001b[0m Trial 14 finished with value: -38.333333333333336 and parameters: {'n_estimators': 544, 'min_samples_split': 14, 'min_samples_leaf': 5, 'max_depth': 8}. Best is trial 13 with value: -35.0.\u001b[0m\n",
      "/home/ec2-user/anaconda3/envs/python3/lib/python3.10/site-packages/optuna/samplers/_tpe/_erf.py:132: RuntimeWarning: divide by zero encountered in true_divide\n",
      "  s = one / (x * x)\n",
      "\u001b[32m[I 2023-03-31 18:44:53,559]\u001b[0m Trial 15 finished with value: -41.666666666666664 and parameters: {'n_estimators': 577, 'min_samples_split': 15, 'min_samples_leaf': 7, 'max_depth': 8}. Best is trial 13 with value: -35.0.\u001b[0m\n",
      "/home/ec2-user/anaconda3/envs/python3/lib/python3.10/site-packages/optuna/samplers/_tpe/_erf.py:132: RuntimeWarning: divide by zero encountered in true_divide\n",
      "  s = one / (x * x)\n",
      "\u001b[32m[I 2023-03-31 18:44:57,359]\u001b[0m Trial 16 finished with value: -38.333333333333336 and parameters: {'n_estimators': 501, 'min_samples_split': 15, 'min_samples_leaf': 5, 'max_depth': 8}. Best is trial 13 with value: -35.0.\u001b[0m\n",
      "\u001b[32m[I 2023-03-31 18:45:05,964]\u001b[0m Trial 17 finished with value: -65.0 and parameters: {'n_estimators': 1199, 'min_samples_split': 14, 'min_samples_leaf': 15, 'max_depth': 9}. Best is trial 13 with value: -35.0.\u001b[0m\n",
      "\u001b[32m[I 2023-03-31 18:45:15,152]\u001b[0m Trial 18 finished with value: -53.333333333333336 and parameters: {'n_estimators': 1252, 'min_samples_split': 18, 'min_samples_leaf': 5, 'max_depth': 7}. Best is trial 13 with value: -35.0.\u001b[0m\n",
      "\u001b[32m[I 2023-03-31 18:45:21,067]\u001b[0m Trial 19 finished with value: -66.66666666666667 and parameters: {'n_estimators': 802, 'min_samples_split': 12, 'min_samples_leaf': 15, 'max_depth': 9}. Best is trial 13 with value: -35.0.\u001b[0m\n",
      "\u001b[32m[I 2023-03-31 18:45:24,003]\u001b[0m Trial 20 finished with value: -41.666666666666664 and parameters: {'n_estimators': 384, 'min_samples_split': 18, 'min_samples_leaf': 8, 'max_depth': 7}. Best is trial 13 with value: -35.0.\u001b[0m\n",
      "\u001b[32m[I 2023-03-31 18:45:28,000]\u001b[0m Trial 21 finished with value: -53.333333333333336 and parameters: {'n_estimators': 531, 'min_samples_split': 15, 'min_samples_leaf': 5, 'max_depth': 8}. Best is trial 13 with value: -35.0.\u001b[0m\n",
      "\u001b[32m[I 2023-03-31 18:45:33,074]\u001b[0m Trial 22 finished with value: -45.0 and parameters: {'n_estimators': 672, 'min_samples_split': 13, 'min_samples_leaf': 5, 'max_depth': 8}. Best is trial 13 with value: -35.0.\u001b[0m\n",
      "\u001b[32m[I 2023-03-31 18:45:36,270]\u001b[0m Trial 23 finished with value: -31.666666666666668 and parameters: {'n_estimators': 430, 'min_samples_split': 17, 'min_samples_leaf': 7, 'max_depth': 9}. Best is trial 23 with value: -31.666666666666668.\u001b[0m\n",
      "\u001b[32m[I 2023-03-31 18:45:39,072]\u001b[0m Trial 24 finished with value: -38.333333333333336 and parameters: {'n_estimators': 374, 'min_samples_split': 17, 'min_samples_leaf': 7, 'max_depth': 9}. Best is trial 23 with value: -31.666666666666668.\u001b[0m\n",
      "/home/ec2-user/anaconda3/envs/python3/lib/python3.10/site-packages/optuna/samplers/_tpe/_erf.py:132: RuntimeWarning: divide by zero encountered in true_divide\n",
      "  s = one / (x * x)\n",
      "\u001b[32m[I 2023-03-31 18:45:46,374]\u001b[0m Trial 25 finished with value: -61.666666666666664 and parameters: {'n_estimators': 999, 'min_samples_split': 24, 'min_samples_leaf': 13, 'max_depth': 10}. Best is trial 23 with value: -31.666666666666668.\u001b[0m\n",
      "\u001b[32m[I 2023-03-31 18:45:48,538]\u001b[0m Trial 26 finished with value: -35.0 and parameters: {'n_estimators': 291, 'min_samples_split': 19, 'min_samples_leaf': 7, 'max_depth': 9}. Best is trial 23 with value: -31.666666666666668.\u001b[0m\n",
      "\u001b[32m[I 2023-03-31 18:45:50,820]\u001b[0m Trial 27 finished with value: -33.333333333333336 and parameters: {'n_estimators': 292, 'min_samples_split': 19, 'min_samples_leaf': 8, 'max_depth': 9}. Best is trial 23 with value: -31.666666666666668.\u001b[0m\n",
      "\u001b[32m[I 2023-03-31 18:45:51,931]\u001b[0m Trial 28 finished with value: -61.666666666666664 and parameters: {'n_estimators': 135, 'min_samples_split': 24, 'min_samples_leaf': 13, 'max_depth': 6}. Best is trial 23 with value: -31.666666666666668.\u001b[0m\n",
      "/home/ec2-user/anaconda3/envs/python3/lib/python3.10/site-packages/optuna/samplers/_tpe/_erf.py:132: RuntimeWarning: divide by zero encountered in true_divide\n",
      "  s = one / (x * x)\n",
      "\u001b[32m[I 2023-03-31 18:45:55,684]\u001b[0m Trial 29 finished with value: -50.0 and parameters: {'n_estimators': 395, 'min_samples_split': 17, 'min_samples_leaf': 9, 'max_depth': 5}. Best is trial 23 with value: -31.666666666666668.\u001b[0m\n"
     ]
    }
   ],
   "source": [
    "seed = 42\n",
    "n_trials = 30\n",
    "\n",
    "study_2 = optuna.create_study(direction = 'maximize')\n",
    "study_2.optimize(Objective(seed), n_trials = n_trials)"
   ]
  },
  {
   "cell_type": "code",
   "execution_count": 26,
   "id": "5f648cea-99eb-42fb-b0fc-e1d5054b98df",
   "metadata": {
    "tags": []
   },
   "outputs": [
    {
     "data": {
      "text/plain": [
       "{'n_estimators': 430,\n",
       " 'min_samples_split': 17,\n",
       " 'min_samples_leaf': 7,\n",
       " 'max_depth': 9}"
      ]
     },
     "execution_count": 26,
     "metadata": {},
     "output_type": "execute_result"
    }
   ],
   "source": [
    "study_2.best_trial.params"
   ]
  },
  {
   "cell_type": "markdown",
   "id": "c88106d5-5c04-4110-b821-2dbaa4a76884",
   "metadata": {},
   "source": [
    "##### model 3\n",
    "\n",
    "top 7 features"
   ]
  },
  {
   "cell_type": "code",
   "execution_count": 27,
   "id": "0ec48721-471e-4a0c-90c3-d1e786c28d27",
   "metadata": {
    "tags": []
   },
   "outputs": [],
   "source": [
    "class Objective:\n",
    "    def __init__(self, seed):\n",
    "        self.seed = seed\n",
    "        \n",
    "    def __call__(self, trial):\n",
    "    ## Parameters to be evaluated\n",
    "        params = dict(n_estimators = trial.suggest_int('n_estimators', 100, 2000),\n",
    "            min_samples_split = trial.suggest_int('min_samples_split', 5, 30),\n",
    "            min_samples_leaf = trial.suggest_int('min_samples_leaf', 5, 30),\n",
    "            max_depth = trial.suggest_int('max_depth', 2, 10)\n",
    "            )\n",
    "        scores= list()\n",
    "         \n",
    "        #Running cross validation\n",
    "        skf = StratifiedKFold(n_splits = 3, shuffle = True, random_state = self.seed)\n",
    "       \n",
    "        for train_idx, valid_idx in skf.split(x_train_top7, y_train):\n",
    "            x_train_3, x_valid_3 = x_train_top7.iloc[train_idx], x_train_top7.iloc[valid_idx]\n",
    "            y_train_3, y_valid_3 = y_train.iloc[train_idx] , y_train.iloc[valid_idx]\n",
    "         \n",
    "            rf_md = RandomForestClassifier(**params).fit(x_train_3, y_train_3)\n",
    "         \n",
    "            preds_valid = rf_md.predict_proba(x_valid_3)[:,1]\n",
    "            \n",
    "            score = cost_function(y_valid_3, preds_valid)\n",
    "            \n",
    "            scores.append(score)\n",
    "         \n",
    "        return np.mean(scores)"
   ]
  },
  {
   "cell_type": "code",
   "execution_count": 28,
   "id": "8c25bc96-e446-41ba-b79c-bb97cae0e027",
   "metadata": {
    "tags": []
   },
   "outputs": [
    {
     "name": "stderr",
     "output_type": "stream",
     "text": [
      "\u001b[32m[I 2023-03-31 18:45:55,707]\u001b[0m A new study created in memory with name: no-name-5f9d10e7-8ef9-4cf8-bd6a-8fea265d11ea\u001b[0m\n",
      "\u001b[32m[I 2023-03-31 18:46:06,756]\u001b[0m Trial 0 finished with value: -73.33333333333333 and parameters: {'n_estimators': 1741, 'min_samples_split': 16, 'min_samples_leaf': 5, 'max_depth': 2}. Best is trial 0 with value: -73.33333333333333.\u001b[0m\n",
      "\u001b[32m[I 2023-03-31 18:46:17,062]\u001b[0m Trial 1 finished with value: -40.0 and parameters: {'n_estimators': 1519, 'min_samples_split': 8, 'min_samples_leaf': 15, 'max_depth': 4}. Best is trial 1 with value: -40.0.\u001b[0m\n",
      "\u001b[32m[I 2023-03-31 18:46:29,832]\u001b[0m Trial 2 finished with value: -63.333333333333336 and parameters: {'n_estimators': 1861, 'min_samples_split': 28, 'min_samples_leaf': 29, 'max_depth': 10}. Best is trial 1 with value: -40.0.\u001b[0m\n",
      "\u001b[32m[I 2023-03-31 18:46:35,761]\u001b[0m Trial 3 finished with value: -48.333333333333336 and parameters: {'n_estimators': 858, 'min_samples_split': 24, 'min_samples_leaf': 19, 'max_depth': 4}. Best is trial 1 with value: -40.0.\u001b[0m\n",
      "\u001b[32m[I 2023-03-31 18:46:46,740]\u001b[0m Trial 4 finished with value: -65.0 and parameters: {'n_estimators': 1551, 'min_samples_split': 22, 'min_samples_leaf': 24, 'max_depth': 8}. Best is trial 1 with value: -40.0.\u001b[0m\n",
      "\u001b[32m[I 2023-03-31 18:46:51,143]\u001b[0m Trial 5 finished with value: -40.0 and parameters: {'n_estimators': 632, 'min_samples_split': 8, 'min_samples_leaf': 16, 'max_depth': 4}. Best is trial 1 with value: -40.0.\u001b[0m\n",
      "\u001b[32m[I 2023-03-31 18:47:03,690]\u001b[0m Trial 6 finished with value: -21.666666666666668 and parameters: {'n_estimators': 1820, 'min_samples_split': 17, 'min_samples_leaf': 7, 'max_depth': 9}. Best is trial 6 with value: -21.666666666666668.\u001b[0m\n",
      "\u001b[32m[I 2023-03-31 18:47:12,928]\u001b[0m Trial 7 finished with value: -61.666666666666664 and parameters: {'n_estimators': 1228, 'min_samples_split': 8, 'min_samples_leaf': 25, 'max_depth': 10}. Best is trial 6 with value: -21.666666666666668.\u001b[0m\n",
      "\u001b[32m[I 2023-03-31 18:47:16,513]\u001b[0m Trial 8 finished with value: -26.666666666666668 and parameters: {'n_estimators': 423, 'min_samples_split': 14, 'min_samples_leaf': 15, 'max_depth': 6}. Best is trial 6 with value: -21.666666666666668.\u001b[0m\n",
      "\u001b[32m[I 2023-03-31 18:47:23,479]\u001b[0m Trial 9 finished with value: -38.333333333333336 and parameters: {'n_estimators': 960, 'min_samples_split': 24, 'min_samples_leaf': 19, 'max_depth': 5}. Best is trial 6 with value: -21.666666666666668.\u001b[0m\n",
      "\u001b[32m[I 2023-03-31 18:47:24,637]\u001b[0m Trial 10 finished with value: -30.0 and parameters: {'n_estimators': 144, 'min_samples_split': 13, 'min_samples_leaf': 6, 'max_depth': 8}. Best is trial 6 with value: -21.666666666666668.\u001b[0m\n",
      "\u001b[32m[I 2023-03-31 18:47:27,105]\u001b[0m Trial 11 finished with value: -30.0 and parameters: {'n_estimators': 320, 'min_samples_split': 14, 'min_samples_leaf': 11, 'max_depth': 7}. Best is trial 6 with value: -21.666666666666668.\u001b[0m\n",
      "\u001b[32m[I 2023-03-31 18:47:30,954]\u001b[0m Trial 12 finished with value: -13.333333333333334 and parameters: {'n_estimators': 531, 'min_samples_split': 20, 'min_samples_leaf': 10, 'max_depth': 6}. Best is trial 12 with value: -13.333333333333334.\u001b[0m\n",
      "\u001b[32m[I 2023-03-31 18:47:36,528]\u001b[0m Trial 13 finished with value: -13.333333333333334 and parameters: {'n_estimators': 759, 'min_samples_split': 20, 'min_samples_leaf': 10, 'max_depth': 8}. Best is trial 12 with value: -13.333333333333334.\u001b[0m\n",
      "\u001b[32m[I 2023-03-31 18:47:41,131]\u001b[0m Trial 14 finished with value: -23.333333333333332 and parameters: {'n_estimators': 619, 'min_samples_split': 20, 'min_samples_leaf': 10, 'max_depth': 6}. Best is trial 12 with value: -13.333333333333334.\u001b[0m\n",
      "\u001b[32m[I 2023-03-31 18:47:49,923]\u001b[0m Trial 15 finished with value: -31.666666666666668 and parameters: {'n_estimators': 1197, 'min_samples_split': 30, 'min_samples_leaf': 11, 'max_depth': 7}. Best is trial 12 with value: -13.333333333333334.\u001b[0m\n",
      "\u001b[32m[I 2023-03-31 18:47:55,131]\u001b[0m Trial 16 finished with value: -18.333333333333332 and parameters: {'n_estimators': 712, 'min_samples_split': 20, 'min_samples_leaf': 9, 'max_depth': 8}. Best is trial 12 with value: -13.333333333333334.\u001b[0m\n",
      "/home/ec2-user/anaconda3/envs/python3/lib/python3.10/site-packages/optuna/samplers/_tpe/_erf.py:132: RuntimeWarning: divide by zero encountered in true_divide\n",
      "  s = one / (x * x)\n",
      "\u001b[32m[I 2023-03-31 18:47:58,400]\u001b[0m Trial 17 finished with value: -85.0 and parameters: {'n_estimators': 470, 'min_samples_split': 27, 'min_samples_leaf': 12, 'max_depth': 2}. Best is trial 12 with value: -13.333333333333334.\u001b[0m\n",
      "\u001b[32m[I 2023-03-31 18:47:59,360]\u001b[0m Trial 18 finished with value: -23.333333333333332 and parameters: {'n_estimators': 112, 'min_samples_split': 20, 'min_samples_leaf': 14, 'max_depth': 7}. Best is trial 12 with value: -13.333333333333334.\u001b[0m\n",
      "\u001b[32m[I 2023-03-31 18:48:05,386]\u001b[0m Trial 19 finished with value: -31.666666666666668 and parameters: {'n_estimators': 820, 'min_samples_split': 11, 'min_samples_leaf': 8, 'max_depth': 5}. Best is trial 12 with value: -13.333333333333334.\u001b[0m\n",
      "\u001b[32m[I 2023-03-31 18:48:12,893]\u001b[0m Trial 20 finished with value: -50.0 and parameters: {'n_estimators': 1053, 'min_samples_split': 25, 'min_samples_leaf': 21, 'max_depth': 9}. Best is trial 12 with value: -13.333333333333334.\u001b[0m\n",
      "/home/ec2-user/anaconda3/envs/python3/lib/python3.10/site-packages/optuna/samplers/_tpe/_erf.py:132: RuntimeWarning: divide by zero encountered in true_divide\n",
      "  s = one / (x * x)\n",
      "\u001b[32m[I 2023-03-31 18:48:18,188]\u001b[0m Trial 21 finished with value: -28.333333333333332 and parameters: {'n_estimators': 715, 'min_samples_split': 19, 'min_samples_leaf': 9, 'max_depth': 8}. Best is trial 12 with value: -13.333333333333334.\u001b[0m\n",
      "/home/ec2-user/anaconda3/envs/python3/lib/python3.10/site-packages/optuna/samplers/_tpe/_erf.py:132: RuntimeWarning: divide by zero encountered in true_divide\n",
      "  s = one / (x * x)\n",
      "\u001b[32m[I 2023-03-31 18:48:22,211]\u001b[0m Trial 22 finished with value: -26.666666666666668 and parameters: {'n_estimators': 563, 'min_samples_split': 22, 'min_samples_leaf': 12, 'max_depth': 9}. Best is trial 12 with value: -13.333333333333334.\u001b[0m\n",
      "/home/ec2-user/anaconda3/envs/python3/lib/python3.10/site-packages/optuna/samplers/_tpe/_erf.py:132: RuntimeWarning: divide by zero encountered in true_divide\n",
      "  s = one / (x * x)\n",
      "\u001b[32m[I 2023-03-31 18:48:24,918]\u001b[0m Trial 23 finished with value: -18.333333333333332 and parameters: {'n_estimators': 354, 'min_samples_split': 18, 'min_samples_leaf': 8, 'max_depth': 6}. Best is trial 12 with value: -13.333333333333334.\u001b[0m\n",
      "\u001b[32m[I 2023-03-31 18:48:30,319]\u001b[0m Trial 24 finished with value: -26.666666666666668 and parameters: {'n_estimators': 755, 'min_samples_split': 21, 'min_samples_leaf': 13, 'max_depth': 8}. Best is trial 12 with value: -13.333333333333334.\u001b[0m\n",
      "/home/ec2-user/anaconda3/envs/python3/lib/python3.10/site-packages/optuna/samplers/_tpe/_erf.py:132: RuntimeWarning: divide by zero encountered in true_divide\n",
      "  s = one / (x * x)\n",
      "\u001b[32m[I 2023-03-31 18:48:38,157]\u001b[0m Trial 25 finished with value: -18.333333333333332 and parameters: {'n_estimators': 1091, 'min_samples_split': 16, 'min_samples_leaf': 9, 'max_depth': 7}. Best is trial 12 with value: -13.333333333333334.\u001b[0m\n",
      "/home/ec2-user/anaconda3/envs/python3/lib/python3.10/site-packages/optuna/samplers/_tpe/_erf.py:132: RuntimeWarning: divide by zero encountered in true_divide\n",
      "  s = one / (x * x)\n",
      "\u001b[32m[I 2023-03-31 18:48:44,758]\u001b[0m Trial 26 finished with value: -31.666666666666668 and parameters: {'n_estimators': 912, 'min_samples_split': 23, 'min_samples_leaf': 6, 'max_depth': 5}. Best is trial 12 with value: -13.333333333333334.\u001b[0m\n",
      "/home/ec2-user/anaconda3/envs/python3/lib/python3.10/site-packages/optuna/samplers/_tpe/_erf.py:132: RuntimeWarning: divide by zero encountered in true_divide\n",
      "  s = one / (x * x)\n",
      "\u001b[32m[I 2023-03-31 18:48:46,580]\u001b[0m Trial 27 finished with value: -51.666666666666664 and parameters: {'n_estimators': 243, 'min_samples_split': 26, 'min_samples_leaf': 18, 'max_depth': 9}. Best is trial 12 with value: -13.333333333333334.\u001b[0m\n",
      "\u001b[32m[I 2023-03-31 18:48:50,504]\u001b[0m Trial 28 finished with value: -18.333333333333332 and parameters: {'n_estimators': 521, 'min_samples_split': 5, 'min_samples_leaf': 5, 'max_depth': 7}. Best is trial 12 with value: -13.333333333333334.\u001b[0m\n",
      "/home/ec2-user/anaconda3/envs/python3/lib/python3.10/site-packages/optuna/samplers/_tpe/_erf.py:132: RuntimeWarning: divide by zero encountered in true_divide\n",
      "  s = one / (x * x)\n",
      "\u001b[32m[I 2023-03-31 18:48:59,607]\u001b[0m Trial 29 finished with value: -73.33333333333333 and parameters: {'n_estimators': 1354, 'min_samples_split': 17, 'min_samples_leaf': 5, 'max_depth': 2}. Best is trial 12 with value: -13.333333333333334.\u001b[0m\n"
     ]
    }
   ],
   "source": [
    "seed = 42\n",
    "n_trials = 30\n",
    "\n",
    "study_3 = optuna.create_study(direction = 'maximize')\n",
    "study_3.optimize(Objective(seed), n_trials = n_trials)"
   ]
  },
  {
   "cell_type": "code",
   "execution_count": 29,
   "id": "f8999193-65bd-44c8-8cf4-c82f05f8385a",
   "metadata": {
    "tags": []
   },
   "outputs": [
    {
     "data": {
      "text/plain": [
       "{'n_estimators': 531,\n",
       " 'min_samples_split': 20,\n",
       " 'min_samples_leaf': 10,\n",
       " 'max_depth': 6}"
      ]
     },
     "execution_count": 29,
     "metadata": {},
     "output_type": "execute_result"
    }
   ],
   "source": [
    "study_3.best_trial.params"
   ]
  },
  {
   "cell_type": "markdown",
   "id": "7343e62f-5f35-4491-8134-c0f07b296340",
   "metadata": {},
   "source": [
    "## Exercise 3\n",
    "***"
   ]
  },
  {
   "cell_type": "code",
   "execution_count": 34,
   "id": "cbc83056-434e-4791-abc4-0694821692e3",
   "metadata": {
    "tags": []
   },
   "outputs": [],
   "source": [
    "## defining input and target variables\n",
    "x = train[['totalScanTimeInSeconds', 'trustLevel', 'lineItemVoidsPerPosition',\n",
    "                 'interaction_4', 'scannedLineItemsPerSecond', 'scansWithoutRegistration', 'lineItemVoids',]]\n",
    "y = train['fraud']\n",
    "\n",
    "## defining the testing variables\n",
    "test_final = test[['totalScanTimeInSeconds', 'trustLevel', 'lineItemVoidsPerPosition',\n",
    "                   'interaction_4', 'scannedLineItemsPerSecond', 'scansWithoutRegistration', 'lineItemVoids',]]\n",
    "\n",
    "## splitting the data into 80% training and 20% validation\n",
    "x_train_final, x_valid, y_train_final, y_valid = train_test_split(x, y, test_size = 0.2, stratify = y)"
   ]
  },
  {
   "cell_type": "markdown",
   "id": "735885fa-9d65-4021-8509-c151048d2b33",
   "metadata": {},
   "source": [
    "#### best xgb model: model 1\n",
    "'colsample_bytree': 1, 'gamma': 0.3, 'learning_rate': 0.01, 'max_depth': 3, 'min_child_weight': 5, 'n_estimators': 500, 'subsample': 0.8"
   ]
  },
  {
   "cell_type": "code",
   "execution_count": 38,
   "id": "f387068f-28ba-4a05-84d5-43682b47d30f",
   "metadata": {
    "tags": []
   },
   "outputs": [],
   "source": [
    "## building XGB model with optimal hyperparameters\n",
    "xgb_final_md = XGBClassifier(colsample_bytree = 1, gamma = 0.3, learning_rate = 0.01, max_depth = 3,\n",
    "                                 min_child_weight = 5, n_estimators = 500, subsample = 0.8).fit(x_train_final, y_train_final)\n",
    "\n",
    "## predicting on testing and validation\n",
    "xgb_val_pred = xgb_final_md.predict_proba(x_valid)[:, 1]\n",
    "xgb_test_pred = xgb_final_md.predict_proba(test_final)[:, 1]"
   ]
  },
  {
   "cell_type": "markdown",
   "id": "075075dc-d999-4d74-a0f8-fc638ff03748",
   "metadata": {},
   "source": [
    "#### best ada model: model 3\n",
    "'n_estimators': 300, 'learning_rate': 0.001, 'base_estimator__min_samples_split': 15, 'base_estimator__min_samples_leaf': 5, 'base_estimator__max_depth': 7"
   ]
  },
  {
   "cell_type": "code",
   "execution_count": 45,
   "id": "962157c5-aa6f-4db5-9311-cd039d7e78d3",
   "metadata": {
    "tags": []
   },
   "outputs": [
    {
     "name": "stderr",
     "output_type": "stream",
     "text": [
      "/home/ec2-user/anaconda3/envs/python3/lib/python3.10/site-packages/sklearn/ensemble/_base.py:166: FutureWarning: `base_estimator` was renamed to `estimator` in version 1.2 and will be removed in 1.4.\n",
      "  warnings.warn(\n"
     ]
    }
   ],
   "source": [
    "## building ada model with optimal hyperparameters\n",
    "ada_final_md = AdaBoostClassifier(base_estimator = DecisionTreeClassifier(min_samples_split = 15,\n",
    "                            min_samples_leaf = 5, max_depth = 7), n_estimators = 300,\n",
    "                            learning_rate = 0.001).fit(x_train_final, y_train_final)\n",
    "\n",
    "## predicting on testing and validation\n",
    "ada_val_pred = ada_final_md.predict_proba(x_valid)[:, 1]\n",
    "ada_test_pred = ada_final_md.predict_proba(test_final)[:, 1]"
   ]
  },
  {
   "cell_type": "markdown",
   "id": "47b2fb94-c12c-41e0-9357-e7f1e5d25189",
   "metadata": {},
   "source": [
    "#### best rf model: model 3\n",
    "'n_estimators': 531,\n",
    " 'min_samples_split': 20,\n",
    " 'min_samples_leaf': 10,\n",
    " 'max_depth': 6"
   ]
  },
  {
   "cell_type": "code",
   "execution_count": 46,
   "id": "8a59d309-28c6-4251-a03d-898cabed1758",
   "metadata": {
    "tags": []
   },
   "outputs": [],
   "source": [
    "## building rf model with optimal hyperparameters\n",
    "rf_final_md = RandomForestClassifier(n_estimators = 531,\n",
    "                                     max_depth = 6,\n",
    "                                     min_samples_split = 20,\n",
    "                                     min_samples_leaf = 10).fit(x_train_final, y_train_final)\n",
    "\n",
    "## predicting on the testing and validation\n",
    "rf_val_pred = rf_final_md.predict_proba(x_valid)[:, 1]\n",
    "rf_test_pred = rf_final_md.predict_proba(test_final)[:, 1]"
   ]
  },
  {
   "cell_type": "markdown",
   "id": "f35d8858-7049-4f43-bac5-669571f94f81",
   "metadata": {},
   "source": [
    "#### building ensemble model"
   ]
  },
  {
   "cell_type": "code",
   "execution_count": 58,
   "id": "cb054d15-f43a-47d8-b069-9ed3ad17c1de",
   "metadata": {
    "tags": []
   },
   "outputs": [],
   "source": [
    "## combining all preds into dataframe\n",
    "x_ensemble = pd.concat([pd.DataFrame(xgb_val_pred),pd.DataFrame(ada_val_pred), pd.DataFrame(rf_val_pred)], axis = 1)\n",
    "x_test_ensemble = pd.concat([pd.DataFrame(xgb_test_pred),pd.DataFrame(ada_test_pred), pd.DataFrame(rf_test_pred)], axis = 1)\n",
    "\n",
    "x = x_ensemble\n",
    "y = y_valid\n",
    "\n",
    "class Objective:\n",
    "    def __init__(self, seed):\n",
    "        self.seed = seed\n",
    "\n",
    "    def __call__(self, trial):\n",
    "        \n",
    "        \n",
    "        params = dict(n_estimators = trial.suggest_int('n_estimators', 100, 2000),\n",
    "        min_samples_split = trial.suggest_int('min_samples_split', 5, 30),\n",
    "        min_samples_leaf = trial.suggest_int('min_samples_leaf', 5, 30),\n",
    "        max_depth = trial.suggest_int('max_depth', 2, 10)\n",
    "        )\n",
    "        scores = []\n",
    "       \n",
    "        skf = StratifiedKFold(n_splits = 3, shuffle = True, random_state = self.seed)\n",
    "        \n",
    "        for train_idx, valid_idx in skf.split(x, y):\n",
    "            x_train, x_valid = x.iloc[train_idx], x.iloc[valid_idx]\n",
    "            y_train , y_valid = y.iloc[train_idx] , y.iloc[valid_idx]\n",
    "            \n",
    "            rf_md = RandomForestClassifier(**params).fit(x_train, y_train)\n",
    "            \n",
    "            preds_valid = rf_md.predict_proba(x_valid)[:, 1]\n",
    "            score = cost_function(y_valid, preds_valid)\n",
    "            \n",
    "            scores.append(score)\n",
    "            \n",
    "        return np.mean(scores)"
   ]
  },
  {
   "cell_type": "code",
   "execution_count": 59,
   "id": "671a0b76-d832-4523-ab37-30c0c27fac57",
   "metadata": {
    "tags": []
   },
   "outputs": [
    {
     "name": "stderr",
     "output_type": "stream",
     "text": [
      "\u001b[32m[I 2023-03-31 19:15:02,022]\u001b[0m A new study created in memory with name: no-name-6cf42683-81c8-4de2-a8f4-91ed0ebb2613\u001b[0m\n",
      "\u001b[32m[I 2023-03-31 19:15:06,518]\u001b[0m Trial 0 finished with value: 15.0 and parameters: {'n_estimators': 716, 'min_samples_split': 15, 'min_samples_leaf': 12, 'max_depth': 6}. Best is trial 0 with value: 15.0.\u001b[0m\n",
      "\u001b[32m[I 2023-03-31 19:15:08,366]\u001b[0m Trial 1 finished with value: -35.0 and parameters: {'n_estimators': 300, 'min_samples_split': 23, 'min_samples_leaf': 26, 'max_depth': 10}. Best is trial 0 with value: 15.0.\u001b[0m\n",
      "\u001b[32m[I 2023-03-31 19:15:13,095]\u001b[0m Trial 2 finished with value: -35.0 and parameters: {'n_estimators': 805, 'min_samples_split': 30, 'min_samples_leaf': 28, 'max_depth': 7}. Best is trial 0 with value: 15.0.\u001b[0m\n",
      "\u001b[32m[I 2023-03-31 19:15:18,695]\u001b[0m Trial 3 finished with value: -35.0 and parameters: {'n_estimators': 1001, 'min_samples_split': 17, 'min_samples_leaf': 30, 'max_depth': 5}. Best is trial 0 with value: 15.0.\u001b[0m\n",
      "\u001b[32m[I 2023-03-31 19:15:26,056]\u001b[0m Trial 4 finished with value: 20.0 and parameters: {'n_estimators': 1306, 'min_samples_split': 14, 'min_samples_leaf': 9, 'max_depth': 6}. Best is trial 4 with value: 20.0.\u001b[0m\n",
      "\u001b[32m[I 2023-03-31 19:15:29,165]\u001b[0m Trial 5 finished with value: -35.0 and parameters: {'n_estimators': 544, 'min_samples_split': 22, 'min_samples_leaf': 19, 'max_depth': 8}. Best is trial 4 with value: 20.0.\u001b[0m\n",
      "\u001b[32m[I 2023-03-31 19:15:30,100]\u001b[0m Trial 6 finished with value: -35.0 and parameters: {'n_estimators': 140, 'min_samples_split': 15, 'min_samples_leaf': 25, 'max_depth': 10}. Best is trial 4 with value: 20.0.\u001b[0m\n",
      "\u001b[32m[I 2023-03-31 19:15:37,213]\u001b[0m Trial 7 finished with value: -35.0 and parameters: {'n_estimators': 1223, 'min_samples_split': 15, 'min_samples_leaf': 24, 'max_depth': 8}. Best is trial 4 with value: 20.0.\u001b[0m\n",
      "\u001b[32m[I 2023-03-31 19:15:43,732]\u001b[0m Trial 8 finished with value: -35.0 and parameters: {'n_estimators': 1117, 'min_samples_split': 14, 'min_samples_leaf': 21, 'max_depth': 7}. Best is trial 4 with value: 20.0.\u001b[0m\n",
      "\u001b[32m[I 2023-03-31 19:15:46,219]\u001b[0m Trial 9 finished with value: 15.0 and parameters: {'n_estimators': 428, 'min_samples_split': 29, 'min_samples_leaf': 11, 'max_depth': 4}. Best is trial 4 with value: 20.0.\u001b[0m\n",
      "\u001b[32m[I 2023-03-31 19:15:56,661]\u001b[0m Trial 10 finished with value: 25.0 and parameters: {'n_estimators': 1775, 'min_samples_split': 10, 'min_samples_leaf': 6, 'max_depth': 2}. Best is trial 10 with value: 25.0.\u001b[0m\n",
      "\u001b[32m[I 2023-03-31 19:16:07,521]\u001b[0m Trial 11 finished with value: 25.0 and parameters: {'n_estimators': 1792, 'min_samples_split': 6, 'min_samples_leaf': 5, 'max_depth': 2}. Best is trial 10 with value: 25.0.\u001b[0m\n",
      "\u001b[32m[I 2023-03-31 19:16:18,500]\u001b[0m Trial 12 finished with value: 25.0 and parameters: {'n_estimators': 1894, 'min_samples_split': 5, 'min_samples_leaf': 5, 'max_depth': 2}. Best is trial 10 with value: 25.0.\u001b[0m\n",
      "\u001b[32m[I 2023-03-31 19:16:29,849]\u001b[0m Trial 13 finished with value: 25.0 and parameters: {'n_estimators': 1948, 'min_samples_split': 6, 'min_samples_leaf': 5, 'max_depth': 2}. Best is trial 10 with value: 25.0.\u001b[0m\n",
      "/home/ec2-user/anaconda3/envs/python3/lib/python3.10/site-packages/optuna/samplers/_tpe/_erf.py:132: RuntimeWarning: divide by zero encountered in true_divide\n",
      "  s = one / (x * x)\n",
      "\u001b[32m[I 2023-03-31 19:16:39,091]\u001b[0m Trial 14 finished with value: 3.3333333333333335 and parameters: {'n_estimators': 1600, 'min_samples_split': 9, 'min_samples_leaf': 15, 'max_depth': 3}. Best is trial 10 with value: 25.0.\u001b[0m\n",
      "\u001b[32m[I 2023-03-31 19:16:48,349]\u001b[0m Trial 15 finished with value: 20.0 and parameters: {'n_estimators': 1600, 'min_samples_split': 10, 'min_samples_leaf': 8, 'max_depth': 4}. Best is trial 10 with value: 25.0.\u001b[0m\n",
      "\u001b[32m[I 2023-03-31 19:16:57,791]\u001b[0m Trial 16 finished with value: 11.666666666666666 and parameters: {'n_estimators': 1615, 'min_samples_split': 10, 'min_samples_leaf': 15, 'max_depth': 3}. Best is trial 10 with value: 25.0.\u001b[0m\n",
      "\u001b[32m[I 2023-03-31 19:17:07,863]\u001b[0m Trial 17 finished with value: 20.0 and parameters: {'n_estimators': 1745, 'min_samples_split': 8, 'min_samples_leaf': 8, 'max_depth': 2}. Best is trial 10 with value: 25.0.\u001b[0m\n",
      "/home/ec2-user/anaconda3/envs/python3/lib/python3.10/site-packages/optuna/samplers/_tpe/_erf.py:132: RuntimeWarning: divide by zero encountered in true_divide\n",
      "  s = one / (x * x)\n",
      "\u001b[32m[I 2023-03-31 19:17:15,975]\u001b[0m Trial 18 finished with value: 11.666666666666666 and parameters: {'n_estimators': 1403, 'min_samples_split': 12, 'min_samples_leaf': 14, 'max_depth': 3}. Best is trial 10 with value: 25.0.\u001b[0m\n",
      "\u001b[32m[I 2023-03-31 19:17:24,207]\u001b[0m Trial 19 finished with value: 20.0 and parameters: {'n_estimators': 1418, 'min_samples_split': 21, 'min_samples_leaf': 5, 'max_depth': 4}. Best is trial 10 with value: 25.0.\u001b[0m\n",
      "\u001b[32m[I 2023-03-31 19:17:35,754]\u001b[0m Trial 20 finished with value: 20.0 and parameters: {'n_estimators': 1999, 'min_samples_split': 6, 'min_samples_leaf': 10, 'max_depth': 5}. Best is trial 10 with value: 25.0.\u001b[0m\n",
      "\u001b[32m[I 2023-03-31 19:17:46,269]\u001b[0m Trial 21 finished with value: 25.0 and parameters: {'n_estimators': 1823, 'min_samples_split': 5, 'min_samples_leaf': 5, 'max_depth': 2}. Best is trial 10 with value: 25.0.\u001b[0m\n",
      "\u001b[32m[I 2023-03-31 19:17:56,613]\u001b[0m Trial 22 finished with value: 25.0 and parameters: {'n_estimators': 1752, 'min_samples_split': 8, 'min_samples_leaf': 7, 'max_depth': 2}. Best is trial 10 with value: 25.0.\u001b[0m\n",
      "\u001b[32m[I 2023-03-31 19:18:07,344]\u001b[0m Trial 23 finished with value: 25.0 and parameters: {'n_estimators': 1864, 'min_samples_split': 5, 'min_samples_leaf': 6, 'max_depth': 3}. Best is trial 10 with value: 25.0.\u001b[0m\n",
      "\u001b[32m[I 2023-03-31 19:18:16,125]\u001b[0m Trial 24 finished with value: 15.0 and parameters: {'n_estimators': 1517, 'min_samples_split': 11, 'min_samples_leaf': 12, 'max_depth': 2}. Best is trial 10 with value: 25.0.\u001b[0m\n",
      "\u001b[32m[I 2023-03-31 19:18:26,181]\u001b[0m Trial 25 finished with value: 20.0 and parameters: {'n_estimators': 1739, 'min_samples_split': 7, 'min_samples_leaf': 7, 'max_depth': 3}. Best is trial 10 with value: 25.0.\u001b[0m\n",
      "\u001b[32m[I 2023-03-31 19:18:37,624]\u001b[0m Trial 26 finished with value: 20.0 and parameters: {'n_estimators': 1998, 'min_samples_split': 12, 'min_samples_leaf': 10, 'max_depth': 4}. Best is trial 10 with value: 25.0.\u001b[0m\n",
      "\u001b[32m[I 2023-03-31 19:18:46,615]\u001b[0m Trial 27 finished with value: 20.0 and parameters: {'n_estimators': 1474, 'min_samples_split': 19, 'min_samples_leaf': 7, 'max_depth': 5}. Best is trial 10 with value: 25.0.\u001b[0m\n",
      "\u001b[32m[I 2023-03-31 19:18:56,285]\u001b[0m Trial 28 finished with value: -20.0 and parameters: {'n_estimators': 1661, 'min_samples_split': 8, 'min_samples_leaf': 17, 'max_depth': 2}. Best is trial 10 with value: 25.0.\u001b[0m\n",
      "\u001b[32m[I 2023-03-31 19:19:01,287]\u001b[0m Trial 29 finished with value: 11.666666666666666 and parameters: {'n_estimators': 839, 'min_samples_split': 5, 'min_samples_leaf': 13, 'max_depth': 3}. Best is trial 10 with value: 25.0.\u001b[0m\n"
     ]
    }
   ],
   "source": [
    "## Defining seed and number of trials\n",
    "seed = 42\n",
    "n_trials = 30\n",
    "\n",
    "study = optuna.create_study(direction = 'maximize')\n",
    "study.optimize(Objective(seed), n_trials = n_trials)"
   ]
  },
  {
   "cell_type": "code",
   "execution_count": 74,
   "id": "d372f4fa-9205-495e-abc3-b205f2b2b107",
   "metadata": {
    "tags": []
   },
   "outputs": [
    {
     "name": "stdout",
     "output_type": "stream",
     "text": [
      "The optimal cutoff is: 0.4\n"
     ]
    }
   ],
   "source": [
    "## final model\n",
    "rf_ensemble_md = RandomForestClassifier(**study.best_trial.params).fit(x_ensemble, y_valid)\n",
    "\n",
    "## Predicting on testing and valid\n",
    "rf_ensemble_val_preds = rf_ensemble_md.predict_proba(x_ensemble)[:, 1]\n",
    "rf_ensemble_test_preds = rf_ensemble_md.predict_proba(x_test_ensemble)[:, 1]\n",
    "\n",
    "## optimal cutoff value\n",
    "optimal_cutoff = cost_function_cutoff(y_valid, rf_ensemble_val_preds)\n",
    "\n",
    "## changing likelihoods to labels\n",
    "rf_ensemble_label_preds = np.where(rf_ensemble_test_preds < optimal_cutoff, 0, 1)\n",
    "\n",
    "print('The optimal cutoff is:', optimal_cutoff)"
   ]
  },
  {
   "cell_type": "code",
   "execution_count": 76,
   "id": "4585fe5e-1473-4b74-ac74-d9aecc928f7f",
   "metadata": {
    "tags": []
   },
   "outputs": [],
   "source": [
    "## submitting final likelihoods to csv file\n",
    "final_likelihoods = pd.DataFrame({'Final Likelihoods': rf_ensemble_test_preds})\n",
    "final_likelihoods.to_csv('final_likelihoods_hw6.csv', index = False)"
   ]
  },
  {
   "cell_type": "code",
   "execution_count": null,
   "id": "65898545-d013-4f7a-bc5a-b5ce0fb470d7",
   "metadata": {},
   "outputs": [],
   "source": []
  }
 ],
 "metadata": {
  "kernelspec": {
   "display_name": "conda_python3",
   "language": "python",
   "name": "conda_python3"
  },
  "language_info": {
   "codemirror_mode": {
    "name": "ipython",
    "version": 3
   },
   "file_extension": ".py",
   "mimetype": "text/x-python",
   "name": "python",
   "nbconvert_exporter": "python",
   "pygments_lexer": "ipython3",
   "version": "3.10.8"
  }
 },
 "nbformat": 4,
 "nbformat_minor": 5
}
