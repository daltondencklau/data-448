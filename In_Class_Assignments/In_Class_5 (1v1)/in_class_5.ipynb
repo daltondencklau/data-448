{
 "cells": [
  {
   "cell_type": "code",
   "execution_count": 12,
   "id": "e6e90593-0fe6-4276-85c6-8e15e2dbba99",
   "metadata": {},
   "outputs": [
    {
     "data": {
      "text/html": [
       "<div>\n",
       "<style scoped>\n",
       "    .dataframe tbody tr th:only-of-type {\n",
       "        vertical-align: middle;\n",
       "    }\n",
       "\n",
       "    .dataframe tbody tr th {\n",
       "        vertical-align: top;\n",
       "    }\n",
       "\n",
       "    .dataframe thead th {\n",
       "        text-align: right;\n",
       "    }\n",
       "</style>\n",
       "<table border=\"1\" class=\"dataframe\">\n",
       "  <thead>\n",
       "    <tr style=\"text-align: right;\">\n",
       "      <th></th>\n",
       "      <th>Id</th>\n",
       "      <th>SepalLengthCm</th>\n",
       "      <th>SepalWidthCm</th>\n",
       "      <th>PetalLengthCm</th>\n",
       "      <th>PetalWidthCm</th>\n",
       "      <th>Species</th>\n",
       "    </tr>\n",
       "  </thead>\n",
       "  <tbody>\n",
       "    <tr>\n",
       "      <th>0</th>\n",
       "      <td>1</td>\n",
       "      <td>5.1</td>\n",
       "      <td>3.5</td>\n",
       "      <td>1.4</td>\n",
       "      <td>0.2</td>\n",
       "      <td>Iris-setosa</td>\n",
       "    </tr>\n",
       "    <tr>\n",
       "      <th>1</th>\n",
       "      <td>2</td>\n",
       "      <td>4.9</td>\n",
       "      <td>3.0</td>\n",
       "      <td>1.4</td>\n",
       "      <td>0.2</td>\n",
       "      <td>Iris-setosa</td>\n",
       "    </tr>\n",
       "    <tr>\n",
       "      <th>2</th>\n",
       "      <td>3</td>\n",
       "      <td>4.7</td>\n",
       "      <td>3.2</td>\n",
       "      <td>1.3</td>\n",
       "      <td>0.2</td>\n",
       "      <td>Iris-setosa</td>\n",
       "    </tr>\n",
       "    <tr>\n",
       "      <th>3</th>\n",
       "      <td>4</td>\n",
       "      <td>4.6</td>\n",
       "      <td>3.1</td>\n",
       "      <td>1.5</td>\n",
       "      <td>0.2</td>\n",
       "      <td>Iris-setosa</td>\n",
       "    </tr>\n",
       "    <tr>\n",
       "      <th>4</th>\n",
       "      <td>5</td>\n",
       "      <td>5.0</td>\n",
       "      <td>3.6</td>\n",
       "      <td>1.4</td>\n",
       "      <td>0.2</td>\n",
       "      <td>Iris-setosa</td>\n",
       "    </tr>\n",
       "  </tbody>\n",
       "</table>\n",
       "</div>"
      ],
      "text/plain": [
       "   Id  SepalLengthCm  SepalWidthCm  PetalLengthCm  PetalWidthCm      Species\n",
       "0   1            5.1           3.5            1.4           0.2  Iris-setosa\n",
       "1   2            4.9           3.0            1.4           0.2  Iris-setosa\n",
       "2   3            4.7           3.2            1.3           0.2  Iris-setosa\n",
       "3   4            4.6           3.1            1.5           0.2  Iris-setosa\n",
       "4   5            5.0           3.6            1.4           0.2  Iris-setosa"
      ]
     },
     "execution_count": 12,
     "metadata": {},
     "output_type": "execute_result"
    }
   ],
   "source": [
    "import boto3\n",
    "import pandas as pd; pd.set_option('display.max_column', 100)\n",
    "import numpy as np\n",
    "import matplotlib.pyplot as plt\n",
    "\n",
    "from sklearn.model_selection import train_test_split\n",
    "from sklearn.preprocessing import MinMaxScaler\n",
    "\n",
    "from sklearn.tree import DecisionTreeClassifier\n",
    "from sklearn.linear_model import LogisticRegression\n",
    "\n",
    "from sklearn.multiclass import OneVsOneClassifier\n",
    "from sklearn.metrics import confusion_matrix, classification_report\n",
    "\n",
    "## define bucket in which you are trying to reach\n",
    "s3 = boto3.resource('s3')\n",
    "bucket_name = 'daltondencklau-data445-bucket'\n",
    "bucket = s3.Bucket(bucket_name)\n",
    "\n",
    "## define csv file to read in the bucket\n",
    "file_key= 'Iris.csv'\n",
    "\n",
    "## syntax to allow us to read the file\n",
    "bucket_object = bucket.Object(file_key)\n",
    "file_object = bucket_object.get()\n",
    "file_content_stream = file_object.get('Body')\n",
    "\n",
    "## reading the data file\n",
    "iris = pd.read_csv(file_content_stream)\n",
    "iris.head()"
   ]
  },
  {
   "cell_type": "code",
   "execution_count": 13,
   "id": "3178423f-1f24-4e39-8aef-62d17af9d268",
   "metadata": {},
   "outputs": [],
   "source": [
    "## changing labels to numbers\n",
    "iris['Species_numb'] = np.where(iris['Species'] == 'Iris-virginica', 1,\n",
    "                                     np.where(iris['Species']== 'Iris-versicolor', 2, 3))"
   ]
  },
  {
   "cell_type": "code",
   "execution_count": 33,
   "id": "e3bdd406-0111-46f4-a367-d45cd9dce2f7",
   "metadata": {},
   "outputs": [],
   "source": [
    "## defining inputs and target variables\n",
    "x = iris.drop(columns = ['Id', 'Species', 'Species_numb'], axis = 1)\n",
    "y = iris['Species_numb']\n",
    "\n",
    "## splitting the data\n",
    "x_train, x_test, y_train, y_test = train_test_split(x, y, test_size = 0.2, stratify = y)"
   ]
  },
  {
   "cell_type": "code",
   "execution_count": 34,
   "id": "70faa9d1-3188-46cc-a119-d7e20a137ab9",
   "metadata": {},
   "outputs": [],
   "source": [
    "## defining the scaler\n",
    "scaler = MinMaxScaler()\n",
    "\n",
    "## scaling the data\n",
    "x_train = scaler.fit_transform(x_train)\n",
    "x_test = scaler.fit_transform(x_test)"
   ]
  },
  {
   "cell_type": "markdown",
   "id": "13148ef1-ec1f-4294-965f-7d29cabfb74d",
   "metadata": {},
   "source": [
    "### One v One (Logistic Regression and Decision Tree)\n",
    "***"
   ]
  },
  {
   "cell_type": "code",
   "execution_count": 35,
   "id": "3dbf96fc-6b5d-4068-b3ac-50338ae9794c",
   "metadata": {},
   "outputs": [
    {
     "name": "stdout",
     "output_type": "stream",
     "text": [
      "Logistic Regression\n",
      "              precision    recall  f1-score   support\n",
      "\n",
      "           1       0.75      0.90      0.82        10\n",
      "           2       0.88      0.70      0.78        10\n",
      "           3       1.00      1.00      1.00        10\n",
      "\n",
      "    accuracy                           0.87        30\n",
      "   macro avg       0.88      0.87      0.87        30\n",
      "weighted avg       0.88      0.87      0.87        30\n",
      "\n",
      "[[ 9  1  0]\n",
      " [ 3  7  0]\n",
      " [ 0  0 10]]\n",
      "Decision Tree\n",
      "              precision    recall  f1-score   support\n",
      "\n",
      "           1       0.90      0.90      0.90        10\n",
      "           2       0.90      0.90      0.90        10\n",
      "           3       1.00      1.00      1.00        10\n",
      "\n",
      "    accuracy                           0.93        30\n",
      "   macro avg       0.93      0.93      0.93        30\n",
      "weighted avg       0.93      0.93      0.93        30\n",
      "\n",
      "[[ 9  1  0]\n",
      " [ 1  9  0]\n",
      " [ 0  0 10]]\n"
     ]
    }
   ],
   "source": [
    "## building models\n",
    "one_v_one_logit = OneVsOneClassifier(estimator = LogisticRegression()).fit(x_train, y_train)\n",
    "one_v_one_dc = OneVsOneClassifier(estimator = DecisionTreeClassifier()).fit(x_train, y_train)\n",
    "\n",
    "## predicting on the testing dataset\n",
    "one_v_one_logit_preds = one_v_one_logit.predict(x_test)\n",
    "one_v_one_dc_preds = one_v_one_dc.predict(x_test)\n",
    "\n",
    "## creating classification model LOGIT\n",
    "print('Logistic Regression')\n",
    "print(classification_report(y_test, one_v_one_logit_preds))\n",
    "\n",
    "## creating confusion matrix LOGIT\n",
    "print(confusion_matrix(y_test, one_v_one_logit_preds))\n",
    "\n",
    "## creating classification report DC\n",
    "print('Decision Tree')\n",
    "print(classification_report(y_test, one_v_one_dc_preds))\n",
    "\n",
    "## creating confusion matrix DC\n",
    "print(confusion_matrix(y_test, one_v_one_dc_preds))"
   ]
  },
  {
   "cell_type": "markdown",
   "id": "d518af2b-8a30-46c8-ac17-5ea300257292",
   "metadata": {},
   "source": [
    "based on these results, the decision tree (93% F1) has better performance compared to logistic regression (87% f1 score) and should be selected for further modeling purposes."
   ]
  }
 ],
 "metadata": {
  "kernelspec": {
   "display_name": "conda_python3",
   "language": "python",
   "name": "conda_python3"
  },
  "language_info": {
   "codemirror_mode": {
    "name": "ipython",
    "version": 3
   },
   "file_extension": ".py",
   "mimetype": "text/x-python",
   "name": "python",
   "nbconvert_exporter": "python",
   "pygments_lexer": "ipython3",
   "version": "3.10.6"
  }
 },
 "nbformat": 4,
 "nbformat_minor": 5
}
