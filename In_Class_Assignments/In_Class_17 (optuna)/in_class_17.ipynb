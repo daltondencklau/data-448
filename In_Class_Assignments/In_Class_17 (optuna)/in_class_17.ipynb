{
 "cells": [
  {
   "cell_type": "code",
   "execution_count": 1,
   "id": "f237d130-3a3d-4d80-9c95-b6d9cfb6f2e0",
   "metadata": {
    "collapsed": true,
    "jupyter": {
     "outputs_hidden": true
    },
    "tags": []
   },
   "outputs": [
    {
     "name": "stdout",
     "output_type": "stream",
     "text": [
      "Looking in indexes: https://pypi.org/simple, https://pip.repos.neuron.amazonaws.com\n",
      "Collecting optuna\n",
      "  Downloading optuna-3.1.0-py3-none-any.whl (365 kB)\n",
      "\u001b[2K     \u001b[90m━━━━━━━━━━━━━━━━━━━━━━━━━━━━━━━━━━━━━━\u001b[0m \u001b[32m365.3/365.3 kB\u001b[0m \u001b[31m11.0 MB/s\u001b[0m eta \u001b[36m0:00:00\u001b[0m\n",
      "\u001b[?25hCollecting cmaes>=0.9.1\n",
      "  Downloading cmaes-0.9.1-py3-none-any.whl (21 kB)\n",
      "Requirement already satisfied: packaging>=20.0 in /home/ec2-user/anaconda3/envs/python3/lib/python3.10/site-packages (from optuna) (21.3)\n",
      "Collecting colorlog\n",
      "  Downloading colorlog-6.7.0-py2.py3-none-any.whl (11 kB)\n",
      "Requirement already satisfied: numpy in /home/ec2-user/anaconda3/envs/python3/lib/python3.10/site-packages (from optuna) (1.22.3)\n",
      "Requirement already satisfied: PyYAML in /home/ec2-user/anaconda3/envs/python3/lib/python3.10/site-packages (from optuna) (5.4.1)\n",
      "Requirement already satisfied: sqlalchemy>=1.3.0 in /home/ec2-user/anaconda3/envs/python3/lib/python3.10/site-packages (from optuna) (1.4.46)\n",
      "Collecting alembic>=1.5.0\n",
      "  Downloading alembic-1.10.2-py3-none-any.whl (212 kB)\n",
      "\u001b[2K     \u001b[90m━━━━━━━━━━━━━━━━━━━━━━━━━━━━━━━━━━━━━━━\u001b[0m \u001b[32m212.2/212.2 kB\u001b[0m \u001b[31m3.1 MB/s\u001b[0m eta \u001b[36m0:00:00\u001b[0ma \u001b[36m0:00:01\u001b[0m\n",
      "\u001b[?25hRequirement already satisfied: tqdm in /home/ec2-user/anaconda3/envs/python3/lib/python3.10/site-packages (from optuna) (4.64.1)\n",
      "Collecting Mako\n",
      "  Downloading Mako-1.2.4-py3-none-any.whl (78 kB)\n",
      "\u001b[2K     \u001b[90m━━━━━━━━━━━━━━━━━━━━━━━━━━━━━━━━━━━━━━━━\u001b[0m \u001b[32m78.7/78.7 kB\u001b[0m \u001b[31m19.3 MB/s\u001b[0m eta \u001b[36m0:00:00\u001b[0m\n",
      "\u001b[?25hRequirement already satisfied: typing-extensions>=4 in /home/ec2-user/anaconda3/envs/python3/lib/python3.10/site-packages (from alembic>=1.5.0->optuna) (4.4.0)\n",
      "Requirement already satisfied: pyparsing!=3.0.5,>=2.0.2 in /home/ec2-user/anaconda3/envs/python3/lib/python3.10/site-packages (from packaging>=20.0->optuna) (3.0.9)\n",
      "Requirement already satisfied: greenlet!=0.4.17 in /home/ec2-user/anaconda3/envs/python3/lib/python3.10/site-packages (from sqlalchemy>=1.3.0->optuna) (2.0.1)\n",
      "Requirement already satisfied: MarkupSafe>=0.9.2 in /home/ec2-user/anaconda3/envs/python3/lib/python3.10/site-packages (from Mako->alembic>=1.5.0->optuna) (2.1.1)\n",
      "Installing collected packages: Mako, colorlog, cmaes, alembic, optuna\n",
      "Successfully installed Mako-1.2.4 alembic-1.10.2 cmaes-0.9.1 colorlog-6.7.0 optuna-3.1.0\n",
      "Note: you may need to restart the kernel to use updated packages.\n"
     ]
    }
   ],
   "source": [
    "pip install optuna"
   ]
  },
  {
   "cell_type": "code",
   "execution_count": 28,
   "id": "800679d4-0dad-4871-abab-2fb9ffdba349",
   "metadata": {
    "tags": []
   },
   "outputs": [],
   "source": [
    "import boto3\n",
    "import pandas as pd; pd.set_option('display.max_column', 100)\n",
    "import numpy as np\n",
    "import matplotlib.pyplot as plt\n",
    "\n",
    "from sklearn.model_selection import train_test_split, GridSearchCV, RandomizedSearchCV, StratifiedKFold\n",
    "from sklearn.preprocessing import MinMaxScaler\n",
    "\n",
    "from scipy.stats import boxcox\n",
    "from sklearn.linear_model import LogisticRegression\n",
    "from sklearn.ensemble import RandomForestClassifier, GradientBoostingClassifier\n",
    "from sklearn.feature_selection import RFE, RFECV\n",
    "from sklearn.svm import SVC\n",
    "from sklearn.tree import DecisionTreeClassifier\n",
    "\n",
    "from sklearn.metrics import confusion_matrix\n",
    "\n",
    "import optuna\n",
    "\n",
    "from cost_function import cost_function\n",
    "\n",
    "## define bucket in which you are trying to reach\n",
    "s3 = boto3.resource('s3')\n",
    "bucket_name = 'daltondencklau-data445-bucket'\n",
    "bucket = s3.Bucket(bucket_name)\n",
    "\n",
    "## define csv file to read in the bucket\n",
    "file_key= 'turnover.csv'\n",
    "\n",
    "## syntax to allow us to read the file\n",
    "bucket_object = bucket.Object(file_key)\n",
    "file_object = bucket_object.get()\n",
    "file_content_stream = file_object.get('Body')\n",
    "\n",
    "## reading the data file\n",
    "train = pd.read_csv('turnover_train.csv')\n",
    "validation = pd.read_csv('turnover_val.csv')\n",
    "test = pd.read_csv('turnover_test.csv')"
   ]
  },
  {
   "cell_type": "code",
   "execution_count": 29,
   "id": "7c6ab3f4-f9a2-4922-941a-72a4ccc60aab",
   "metadata": {
    "tags": []
   },
   "outputs": [],
   "source": [
    "## changing 'sales' and 'salary' to dummy variables\n",
    "train = pd.concat([train.drop(columns = ['sales', 'salary'], axis = 1), pd.get_dummies(train[['sales', 'salary']])], axis = 1)\n",
    "validation = pd.concat([validation.drop(columns = ['sales', 'salary'], axis = 1), pd.get_dummies(validation[['sales', 'salary']])], axis = 1)\n",
    "test = pd.concat([test.drop(columns = ['sales', 'salary'], axis = 1), pd.get_dummies(test[['sales', 'salary']])], axis = 1)"
   ]
  },
  {
   "cell_type": "code",
   "execution_count": 30,
   "id": "6ef68c5d-113b-4c64-9a30-b88a9509c350",
   "metadata": {
    "tags": []
   },
   "outputs": [],
   "source": [
    "## Engineering Features from the decision tree model\n",
    "train['interaction_1'] = np.where(((train['satisfaction_level'] >= 0.115) &\n",
    "                                      (train['satisfaction_level'] <= 0.465) &\n",
    "                                      (train['number_project'] > 2.5)), 1, 0)\n",
    "                              \n",
    "train['interaction_2'] = np.where(((train['satisfaction_level'] <= 0.465) &\n",
    "                                      (train['satisfaction_level'] <= 2.5) &\n",
    "                                      (train['number_project'] <= 0.575)), 1, 0)\n",
    "\n",
    "train['interaction_3'] = np.where(((train['satisfaction_level'] > 0.465) &\n",
    "                                      (train['time_spend_company'] <= 0.45) &\n",
    "                                      (train['average_montly_hours'] <= 290.5)), 1, 0)\n",
    "\n",
    "## Engineering Features from the decision tree model\n",
    "validation['interaction_1'] = np.where(((validation['satisfaction_level'] >= 0.115) &\n",
    "                                      (validation['satisfaction_level'] <= 0.465) &\n",
    "                                      (validation['number_project'] > 2.5)), 1, 0)\n",
    "\n",
    "validation['interaction_2'] = np.where(((validation['satisfaction_level'] <= 0.465) &\n",
    "                                      (validation['satisfaction_level'] <= 2.5) &\n",
    "                                      (validation['number_project'] <= 0.575)), 1, 0)\n",
    "\n",
    "validation['interaction_3'] = np.where(((validation['satisfaction_level'] > 0.465) &\n",
    "                                      (validation['time_spend_company'] <= 0.45) &\n",
    "                                      (validation['average_montly_hours'] <= 290.5)), 1, 0)\n",
    "\n",
    "## Engineering Features from the decision tree model\n",
    "test['interaction_1'] = np.where(((test['satisfaction_level'] >= 0.115) &\n",
    "                                      (test['satisfaction_level'] <= 0.465) &\n",
    "                                      (test['number_project'] > 2.5)), 1, 0)\n",
    "                              \n",
    "test['interaction_2'] = np.where(((test['satisfaction_level'] <= 0.465) &\n",
    "                                      (test['satisfaction_level'] <= 2.5) &\n",
    "                                      (test['number_project'] <= 0.575)), 1, 0)\n",
    "\n",
    "test['interaction_3'] = np.where(((test['satisfaction_level'] > 0.465) &\n",
    "                                      (test['time_spend_company'] <= 0.45) &\n",
    "                                      (test['average_montly_hours'] <= 290.5)), 1, 0)"
   ]
  },
  {
   "cell_type": "markdown",
   "id": "6cabab2e-cbf5-49e3-a3e8-2c3815381b4c",
   "metadata": {},
   "source": [
    "## Optuna Random Forest"
   ]
  },
  {
   "cell_type": "code",
   "execution_count": 25,
   "id": "24ba1634-0920-4b38-869a-fc628c3a5bfd",
   "metadata": {
    "tags": []
   },
   "outputs": [],
   "source": [
    "x = train[['interaction_3', 'interaction_1', 'satisfaction_level', 'time_spend_company', 'number_project']]\n",
    "y = train[['left']]\n",
    "\n",
    "class Objective:\n",
    "    def __init__(self, seed):\n",
    "        self.seed = seed\n",
    "        \n",
    "    def __call__(self, trial):\n",
    "            \n",
    "        params = dict(n_estimators = trial.suggest_int('n_estimators', 100, 2000),\n",
    "                          min_samples_split = trial.suggest_int('min_samples_split', 5, 30),\n",
    "                          min_samples_leaf = trial.suggest_int('min_samples_leaf', 5, 30),\n",
    "                          max_depth = trial.suggest_int('max_depth', 2, 10)\n",
    "                          )\n",
    "        scores = list()\n",
    "            \n",
    "        skf = StratifiedKFold(n_splits = 3, shuffle = True, random_state = self.seed)\n",
    "            \n",
    "        for train_idx, valid_idx in skf.split(x,y):\n",
    "            x_train, x_valid = x.iloc[train_idx], x.iloc[valid_idx]\n",
    "            y_train, y_valid = y.iloc[train_idx], y.iloc[valid_idx]\n",
    "                \n",
    "            rf_md = RandomForestClassifier(**params).fit(x_train, y_train)\n",
    "                \n",
    "            pred_valid = rf_md.predict_proba(x_valid)[:, 1]\n",
    "                \n",
    "            score = cost_function(y_valid, pred_valid)\n",
    "                \n",
    "            scores.append(score[0])\n",
    "                \n",
    "        return np.mean(scores)"
   ]
  },
  {
   "cell_type": "code",
   "execution_count": 26,
   "id": "f5569b6c-8926-4e2a-a580-a52a415a1090",
   "metadata": {
    "collapsed": true,
    "jupyter": {
     "outputs_hidden": true
    },
    "tags": []
   },
   "outputs": [
    {
     "name": "stderr",
     "output_type": "stream",
     "text": [
      "\u001b[32m[I 2023-03-24 17:46:26,806]\u001b[0m A new study created in memory with name: no-name-b6ef812e-d32b-4153-a35c-6f161c8bc3b7\u001b[0m\n",
      "/tmp/ipykernel_14275/3238496100.py:23: DataConversionWarning: A column-vector y was passed when a 1d array was expected. Please change the shape of y to (n_samples,), for example using ravel().\n",
      "  rf_md = RandomForestClassifier(**params).fit(x_train, y_train)\n",
      "/tmp/ipykernel_14275/3238496100.py:23: DataConversionWarning: A column-vector y was passed when a 1d array was expected. Please change the shape of y to (n_samples,), for example using ravel().\n",
      "  rf_md = RandomForestClassifier(**params).fit(x_train, y_train)\n",
      "/tmp/ipykernel_14275/3238496100.py:23: DataConversionWarning: A column-vector y was passed when a 1d array was expected. Please change the shape of y to (n_samples,), for example using ravel().\n",
      "  rf_md = RandomForestClassifier(**params).fit(x_train, y_train)\n",
      "\u001b[32m[I 2023-03-24 17:46:34,251]\u001b[0m Trial 0 finished with value: 168666.66666666666 and parameters: {'n_estimators': 758, 'min_samples_split': 5, 'min_samples_leaf': 30, 'max_depth': 3}. Best is trial 0 with value: 168666.66666666666.\u001b[0m\n",
      "/tmp/ipykernel_14275/3238496100.py:23: DataConversionWarning: A column-vector y was passed when a 1d array was expected. Please change the shape of y to (n_samples,), for example using ravel().\n",
      "  rf_md = RandomForestClassifier(**params).fit(x_train, y_train)\n",
      "/tmp/ipykernel_14275/3238496100.py:23: DataConversionWarning: A column-vector y was passed when a 1d array was expected. Please change the shape of y to (n_samples,), for example using ravel().\n",
      "  rf_md = RandomForestClassifier(**params).fit(x_train, y_train)\n",
      "/tmp/ipykernel_14275/3238496100.py:23: DataConversionWarning: A column-vector y was passed when a 1d array was expected. Please change the shape of y to (n_samples,), for example using ravel().\n",
      "  rf_md = RandomForestClassifier(**params).fit(x_train, y_train)\n",
      "\u001b[32m[I 2023-03-24 17:46:36,468]\u001b[0m Trial 1 finished with value: 223166.66666666666 and parameters: {'n_estimators': 220, 'min_samples_split': 11, 'min_samples_leaf': 11, 'max_depth': 4}. Best is trial 1 with value: 223166.66666666666.\u001b[0m\n",
      "/tmp/ipykernel_14275/3238496100.py:23: DataConversionWarning: A column-vector y was passed when a 1d array was expected. Please change the shape of y to (n_samples,), for example using ravel().\n",
      "  rf_md = RandomForestClassifier(**params).fit(x_train, y_train)\n",
      "/tmp/ipykernel_14275/3238496100.py:23: DataConversionWarning: A column-vector y was passed when a 1d array was expected. Please change the shape of y to (n_samples,), for example using ravel().\n",
      "  rf_md = RandomForestClassifier(**params).fit(x_train, y_train)\n",
      "/tmp/ipykernel_14275/3238496100.py:23: DataConversionWarning: A column-vector y was passed when a 1d array was expected. Please change the shape of y to (n_samples,), for example using ravel().\n",
      "  rf_md = RandomForestClassifier(**params).fit(x_train, y_train)\n",
      "\u001b[32m[I 2023-03-24 17:46:57,018]\u001b[0m Trial 2 finished with value: 277666.6666666667 and parameters: {'n_estimators': 1934, 'min_samples_split': 7, 'min_samples_leaf': 27, 'max_depth': 7}. Best is trial 2 with value: 277666.6666666667.\u001b[0m\n",
      "/tmp/ipykernel_14275/3238496100.py:23: DataConversionWarning: A column-vector y was passed when a 1d array was expected. Please change the shape of y to (n_samples,), for example using ravel().\n",
      "  rf_md = RandomForestClassifier(**params).fit(x_train, y_train)\n",
      "/tmp/ipykernel_14275/3238496100.py:23: DataConversionWarning: A column-vector y was passed when a 1d array was expected. Please change the shape of y to (n_samples,), for example using ravel().\n",
      "  rf_md = RandomForestClassifier(**params).fit(x_train, y_train)\n",
      "/tmp/ipykernel_14275/3238496100.py:23: DataConversionWarning: A column-vector y was passed when a 1d array was expected. Please change the shape of y to (n_samples,), for example using ravel().\n",
      "  rf_md = RandomForestClassifier(**params).fit(x_train, y_train)\n",
      "\u001b[32m[I 2023-03-24 17:47:08,264]\u001b[0m Trial 3 finished with value: 270666.6666666667 and parameters: {'n_estimators': 1057, 'min_samples_split': 6, 'min_samples_leaf': 28, 'max_depth': 6}. Best is trial 2 with value: 277666.6666666667.\u001b[0m\n",
      "/tmp/ipykernel_14275/3238496100.py:23: DataConversionWarning: A column-vector y was passed when a 1d array was expected. Please change the shape of y to (n_samples,), for example using ravel().\n",
      "  rf_md = RandomForestClassifier(**params).fit(x_train, y_train)\n",
      "/tmp/ipykernel_14275/3238496100.py:23: DataConversionWarning: A column-vector y was passed when a 1d array was expected. Please change the shape of y to (n_samples,), for example using ravel().\n",
      "  rf_md = RandomForestClassifier(**params).fit(x_train, y_train)\n",
      "/tmp/ipykernel_14275/3238496100.py:23: DataConversionWarning: A column-vector y was passed when a 1d array was expected. Please change the shape of y to (n_samples,), for example using ravel().\n",
      "  rf_md = RandomForestClassifier(**params).fit(x_train, y_train)\n",
      "\u001b[32m[I 2023-03-24 17:47:21,489]\u001b[0m Trial 4 finished with value: 291666.6666666667 and parameters: {'n_estimators': 1106, 'min_samples_split': 20, 'min_samples_leaf': 10, 'max_depth': 8}. Best is trial 4 with value: 291666.6666666667.\u001b[0m\n",
      "/tmp/ipykernel_14275/3238496100.py:23: DataConversionWarning: A column-vector y was passed when a 1d array was expected. Please change the shape of y to (n_samples,), for example using ravel().\n",
      "  rf_md = RandomForestClassifier(**params).fit(x_train, y_train)\n",
      "/tmp/ipykernel_14275/3238496100.py:23: DataConversionWarning: A column-vector y was passed when a 1d array was expected. Please change the shape of y to (n_samples,), for example using ravel().\n",
      "  rf_md = RandomForestClassifier(**params).fit(x_train, y_train)\n",
      "/tmp/ipykernel_14275/3238496100.py:23: DataConversionWarning: A column-vector y was passed when a 1d array was expected. Please change the shape of y to (n_samples,), for example using ravel().\n",
      "  rf_md = RandomForestClassifier(**params).fit(x_train, y_train)\n",
      "\u001b[32m[I 2023-03-24 17:47:37,804]\u001b[0m Trial 5 finished with value: 229666.66666666666 and parameters: {'n_estimators': 1687, 'min_samples_split': 27, 'min_samples_leaf': 14, 'max_depth': 4}. Best is trial 4 with value: 291666.6666666667.\u001b[0m\n",
      "/tmp/ipykernel_14275/3238496100.py:23: DataConversionWarning: A column-vector y was passed when a 1d array was expected. Please change the shape of y to (n_samples,), for example using ravel().\n",
      "  rf_md = RandomForestClassifier(**params).fit(x_train, y_train)\n",
      "/tmp/ipykernel_14275/3238496100.py:23: DataConversionWarning: A column-vector y was passed when a 1d array was expected. Please change the shape of y to (n_samples,), for example using ravel().\n",
      "  rf_md = RandomForestClassifier(**params).fit(x_train, y_train)\n",
      "/tmp/ipykernel_14275/3238496100.py:23: DataConversionWarning: A column-vector y was passed when a 1d array was expected. Please change the shape of y to (n_samples,), for example using ravel().\n",
      "  rf_md = RandomForestClassifier(**params).fit(x_train, y_train)\n",
      "\u001b[32m[I 2023-03-24 17:47:38,980]\u001b[0m Trial 6 finished with value: 175166.66666666666 and parameters: {'n_estimators': 108, 'min_samples_split': 9, 'min_samples_leaf': 25, 'max_depth': 3}. Best is trial 4 with value: 291666.6666666667.\u001b[0m\n",
      "/tmp/ipykernel_14275/3238496100.py:23: DataConversionWarning: A column-vector y was passed when a 1d array was expected. Please change the shape of y to (n_samples,), for example using ravel().\n",
      "  rf_md = RandomForestClassifier(**params).fit(x_train, y_train)\n",
      "/tmp/ipykernel_14275/3238496100.py:23: DataConversionWarning: A column-vector y was passed when a 1d array was expected. Please change the shape of y to (n_samples,), for example using ravel().\n",
      "  rf_md = RandomForestClassifier(**params).fit(x_train, y_train)\n",
      "/tmp/ipykernel_14275/3238496100.py:23: DataConversionWarning: A column-vector y was passed when a 1d array was expected. Please change the shape of y to (n_samples,), for example using ravel().\n",
      "  rf_md = RandomForestClassifier(**params).fit(x_train, y_train)\n",
      "\u001b[32m[I 2023-03-24 17:47:49,879]\u001b[0m Trial 7 finished with value: 160666.66666666666 and parameters: {'n_estimators': 1198, 'min_samples_split': 28, 'min_samples_leaf': 22, 'max_depth': 3}. Best is trial 4 with value: 291666.6666666667.\u001b[0m\n",
      "/tmp/ipykernel_14275/3238496100.py:23: DataConversionWarning: A column-vector y was passed when a 1d array was expected. Please change the shape of y to (n_samples,), for example using ravel().\n",
      "  rf_md = RandomForestClassifier(**params).fit(x_train, y_train)\n",
      "/tmp/ipykernel_14275/3238496100.py:23: DataConversionWarning: A column-vector y was passed when a 1d array was expected. Please change the shape of y to (n_samples,), for example using ravel().\n",
      "  rf_md = RandomForestClassifier(**params).fit(x_train, y_train)\n",
      "/tmp/ipykernel_14275/3238496100.py:23: DataConversionWarning: A column-vector y was passed when a 1d array was expected. Please change the shape of y to (n_samples,), for example using ravel().\n",
      "  rf_md = RandomForestClassifier(**params).fit(x_train, y_train)\n",
      "\u001b[32m[I 2023-03-24 17:47:52,240]\u001b[0m Trial 8 finished with value: -66333.33333333333 and parameters: {'n_estimators': 261, 'min_samples_split': 28, 'min_samples_leaf': 20, 'max_depth': 2}. Best is trial 4 with value: 291666.6666666667.\u001b[0m\n",
      "/tmp/ipykernel_14275/3238496100.py:23: DataConversionWarning: A column-vector y was passed when a 1d array was expected. Please change the shape of y to (n_samples,), for example using ravel().\n",
      "  rf_md = RandomForestClassifier(**params).fit(x_train, y_train)\n",
      "/tmp/ipykernel_14275/3238496100.py:23: DataConversionWarning: A column-vector y was passed when a 1d array was expected. Please change the shape of y to (n_samples,), for example using ravel().\n",
      "  rf_md = RandomForestClassifier(**params).fit(x_train, y_train)\n",
      "/tmp/ipykernel_14275/3238496100.py:23: DataConversionWarning: A column-vector y was passed when a 1d array was expected. Please change the shape of y to (n_samples,), for example using ravel().\n",
      "  rf_md = RandomForestClassifier(**params).fit(x_train, y_train)\n",
      "\u001b[32m[I 2023-03-24 17:48:11,385]\u001b[0m Trial 9 finished with value: 291666.6666666667 and parameters: {'n_estimators': 1637, 'min_samples_split': 25, 'min_samples_leaf': 7, 'max_depth': 7}. Best is trial 4 with value: 291666.6666666667.\u001b[0m\n",
      "/tmp/ipykernel_14275/3238496100.py:23: DataConversionWarning: A column-vector y was passed when a 1d array was expected. Please change the shape of y to (n_samples,), for example using ravel().\n",
      "  rf_md = RandomForestClassifier(**params).fit(x_train, y_train)\n",
      "/tmp/ipykernel_14275/3238496100.py:23: DataConversionWarning: A column-vector y was passed when a 1d array was expected. Please change the shape of y to (n_samples,), for example using ravel().\n",
      "  rf_md = RandomForestClassifier(**params).fit(x_train, y_train)\n",
      "/tmp/ipykernel_14275/3238496100.py:23: DataConversionWarning: A column-vector y was passed when a 1d array was expected. Please change the shape of y to (n_samples,), for example using ravel().\n",
      "  rf_md = RandomForestClassifier(**params).fit(x_train, y_train)\n",
      "\u001b[32m[I 2023-03-24 17:48:20,212]\u001b[0m Trial 10 finished with value: 298166.6666666667 and parameters: {'n_estimators': 692, 'min_samples_split': 19, 'min_samples_leaf': 5, 'max_depth': 10}. Best is trial 10 with value: 298166.6666666667.\u001b[0m\n",
      "/home/ec2-user/anaconda3/envs/python3/lib/python3.10/site-packages/optuna/samplers/_tpe/_erf.py:132: RuntimeWarning: divide by zero encountered in true_divide\n",
      "  s = one / (x * x)\n",
      "/tmp/ipykernel_14275/3238496100.py:23: DataConversionWarning: A column-vector y was passed when a 1d array was expected. Please change the shape of y to (n_samples,), for example using ravel().\n",
      "  rf_md = RandomForestClassifier(**params).fit(x_train, y_train)\n",
      "/tmp/ipykernel_14275/3238496100.py:23: DataConversionWarning: A column-vector y was passed when a 1d array was expected. Please change the shape of y to (n_samples,), for example using ravel().\n",
      "  rf_md = RandomForestClassifier(**params).fit(x_train, y_train)\n",
      "/tmp/ipykernel_14275/3238496100.py:23: DataConversionWarning: A column-vector y was passed when a 1d array was expected. Please change the shape of y to (n_samples,), for example using ravel().\n",
      "  rf_md = RandomForestClassifier(**params).fit(x_train, y_train)\n",
      "\u001b[32m[I 2023-03-24 17:48:29,219]\u001b[0m Trial 11 finished with value: 296666.6666666667 and parameters: {'n_estimators': 687, 'min_samples_split': 19, 'min_samples_leaf': 6, 'max_depth': 10}. Best is trial 10 with value: 298166.6666666667.\u001b[0m\n",
      "/home/ec2-user/anaconda3/envs/python3/lib/python3.10/site-packages/optuna/samplers/_tpe/_erf.py:132: RuntimeWarning: divide by zero encountered in true_divide\n",
      "  s = one / (x * x)\n",
      "/tmp/ipykernel_14275/3238496100.py:23: DataConversionWarning: A column-vector y was passed when a 1d array was expected. Please change the shape of y to (n_samples,), for example using ravel().\n",
      "  rf_md = RandomForestClassifier(**params).fit(x_train, y_train)\n",
      "/tmp/ipykernel_14275/3238496100.py:23: DataConversionWarning: A column-vector y was passed when a 1d array was expected. Please change the shape of y to (n_samples,), for example using ravel().\n",
      "  rf_md = RandomForestClassifier(**params).fit(x_train, y_train)\n",
      "/tmp/ipykernel_14275/3238496100.py:23: DataConversionWarning: A column-vector y was passed when a 1d array was expected. Please change the shape of y to (n_samples,), for example using ravel().\n",
      "  rf_md = RandomForestClassifier(**params).fit(x_train, y_train)\n",
      "\u001b[32m[I 2023-03-24 17:48:36,978]\u001b[0m Trial 12 finished with value: 298166.6666666667 and parameters: {'n_estimators': 583, 'min_samples_split': 16, 'min_samples_leaf': 5, 'max_depth': 10}. Best is trial 10 with value: 298166.6666666667.\u001b[0m\n",
      "/tmp/ipykernel_14275/3238496100.py:23: DataConversionWarning: A column-vector y was passed when a 1d array was expected. Please change the shape of y to (n_samples,), for example using ravel().\n",
      "  rf_md = RandomForestClassifier(**params).fit(x_train, y_train)\n",
      "/tmp/ipykernel_14275/3238496100.py:23: DataConversionWarning: A column-vector y was passed when a 1d array was expected. Please change the shape of y to (n_samples,), for example using ravel().\n",
      "  rf_md = RandomForestClassifier(**params).fit(x_train, y_train)\n",
      "/tmp/ipykernel_14275/3238496100.py:23: DataConversionWarning: A column-vector y was passed when a 1d array was expected. Please change the shape of y to (n_samples,), for example using ravel().\n",
      "  rf_md = RandomForestClassifier(**params).fit(x_train, y_train)\n",
      "\u001b[32m[I 2023-03-24 17:48:45,165]\u001b[0m Trial 13 finished with value: 298166.6666666667 and parameters: {'n_estimators': 618, 'min_samples_split': 14, 'min_samples_leaf': 5, 'max_depth': 10}. Best is trial 10 with value: 298166.6666666667.\u001b[0m\n",
      "/tmp/ipykernel_14275/3238496100.py:23: DataConversionWarning: A column-vector y was passed when a 1d array was expected. Please change the shape of y to (n_samples,), for example using ravel().\n",
      "  rf_md = RandomForestClassifier(**params).fit(x_train, y_train)\n",
      "/tmp/ipykernel_14275/3238496100.py:23: DataConversionWarning: A column-vector y was passed when a 1d array was expected. Please change the shape of y to (n_samples,), for example using ravel().\n",
      "  rf_md = RandomForestClassifier(**params).fit(x_train, y_train)\n",
      "/tmp/ipykernel_14275/3238496100.py:23: DataConversionWarning: A column-vector y was passed when a 1d array was expected. Please change the shape of y to (n_samples,), for example using ravel().\n",
      "  rf_md = RandomForestClassifier(**params).fit(x_train, y_train)\n",
      "\u001b[32m[I 2023-03-24 17:48:51,444]\u001b[0m Trial 14 finished with value: 291166.6666666667 and parameters: {'n_estimators': 486, 'min_samples_split': 15, 'min_samples_leaf': 15, 'max_depth': 9}. Best is trial 10 with value: 298166.6666666667.\u001b[0m\n",
      "/tmp/ipykernel_14275/3238496100.py:23: DataConversionWarning: A column-vector y was passed when a 1d array was expected. Please change the shape of y to (n_samples,), for example using ravel().\n",
      "  rf_md = RandomForestClassifier(**params).fit(x_train, y_train)\n",
      "/tmp/ipykernel_14275/3238496100.py:23: DataConversionWarning: A column-vector y was passed when a 1d array was expected. Please change the shape of y to (n_samples,), for example using ravel().\n",
      "  rf_md = RandomForestClassifier(**params).fit(x_train, y_train)\n",
      "/tmp/ipykernel_14275/3238496100.py:23: DataConversionWarning: A column-vector y was passed when a 1d array was expected. Please change the shape of y to (n_samples,), for example using ravel().\n",
      "  rf_md = RandomForestClassifier(**params).fit(x_train, y_train)\n",
      "\u001b[32m[I 2023-03-24 17:49:03,021]\u001b[0m Trial 15 finished with value: 293166.6666666667 and parameters: {'n_estimators': 896, 'min_samples_split': 22, 'min_samples_leaf': 10, 'max_depth': 9}. Best is trial 10 with value: 298166.6666666667.\u001b[0m\n",
      "/tmp/ipykernel_14275/3238496100.py:23: DataConversionWarning: A column-vector y was passed when a 1d array was expected. Please change the shape of y to (n_samples,), for example using ravel().\n",
      "  rf_md = RandomForestClassifier(**params).fit(x_train, y_train)\n",
      "/tmp/ipykernel_14275/3238496100.py:23: DataConversionWarning: A column-vector y was passed when a 1d array was expected. Please change the shape of y to (n_samples,), for example using ravel().\n",
      "  rf_md = RandomForestClassifier(**params).fit(x_train, y_train)\n",
      "/tmp/ipykernel_14275/3238496100.py:23: DataConversionWarning: A column-vector y was passed when a 1d array was expected. Please change the shape of y to (n_samples,), for example using ravel().\n",
      "  rf_md = RandomForestClassifier(**params).fit(x_train, y_train)\n",
      "\u001b[32m[I 2023-03-24 17:49:08,326]\u001b[0m Trial 16 finished with value: 294166.6666666667 and parameters: {'n_estimators': 422, 'min_samples_split': 16, 'min_samples_leaf': 8, 'max_depth': 9}. Best is trial 10 with value: 298166.6666666667.\u001b[0m\n",
      "/tmp/ipykernel_14275/3238496100.py:23: DataConversionWarning: A column-vector y was passed when a 1d array was expected. Please change the shape of y to (n_samples,), for example using ravel().\n",
      "  rf_md = RandomForestClassifier(**params).fit(x_train, y_train)\n",
      "/tmp/ipykernel_14275/3238496100.py:23: DataConversionWarning: A column-vector y was passed when a 1d array was expected. Please change the shape of y to (n_samples,), for example using ravel().\n",
      "  rf_md = RandomForestClassifier(**params).fit(x_train, y_train)\n",
      "/tmp/ipykernel_14275/3238496100.py:23: DataConversionWarning: A column-vector y was passed when a 1d array was expected. Please change the shape of y to (n_samples,), for example using ravel().\n",
      "  rf_md = RandomForestClassifier(**params).fit(x_train, y_train)\n",
      "\u001b[32m[I 2023-03-24 17:49:17,955]\u001b[0m Trial 17 finished with value: 291666.6666666667 and parameters: {'n_estimators': 844, 'min_samples_split': 23, 'min_samples_leaf': 14, 'max_depth': 6}. Best is trial 10 with value: 298166.6666666667.\u001b[0m\n",
      "/tmp/ipykernel_14275/3238496100.py:23: DataConversionWarning: A column-vector y was passed when a 1d array was expected. Please change the shape of y to (n_samples,), for example using ravel().\n",
      "  rf_md = RandomForestClassifier(**params).fit(x_train, y_train)\n",
      "/tmp/ipykernel_14275/3238496100.py:23: DataConversionWarning: A column-vector y was passed when a 1d array was expected. Please change the shape of y to (n_samples,), for example using ravel().\n",
      "  rf_md = RandomForestClassifier(**params).fit(x_train, y_train)\n",
      "/tmp/ipykernel_14275/3238496100.py:23: DataConversionWarning: A column-vector y was passed when a 1d array was expected. Please change the shape of y to (n_samples,), for example using ravel().\n",
      "  rf_md = RandomForestClassifier(**params).fit(x_train, y_train)\n",
      "\u001b[32m[I 2023-03-24 17:49:34,916]\u001b[0m Trial 18 finished with value: 298166.6666666667 and parameters: {'n_estimators': 1291, 'min_samples_split': 11, 'min_samples_leaf': 5, 'max_depth': 10}. Best is trial 10 with value: 298166.6666666667.\u001b[0m\n",
      "/tmp/ipykernel_14275/3238496100.py:23: DataConversionWarning: A column-vector y was passed when a 1d array was expected. Please change the shape of y to (n_samples,), for example using ravel().\n",
      "  rf_md = RandomForestClassifier(**params).fit(x_train, y_train)\n",
      "/tmp/ipykernel_14275/3238496100.py:23: DataConversionWarning: A column-vector y was passed when a 1d array was expected. Please change the shape of y to (n_samples,), for example using ravel().\n",
      "  rf_md = RandomForestClassifier(**params).fit(x_train, y_train)\n",
      "/tmp/ipykernel_14275/3238496100.py:23: DataConversionWarning: A column-vector y was passed when a 1d array was expected. Please change the shape of y to (n_samples,), for example using ravel().\n",
      "  rf_md = RandomForestClassifier(**params).fit(x_train, y_train)\n",
      "\u001b[32m[I 2023-03-24 17:49:40,579]\u001b[0m Trial 19 finished with value: 290166.6666666667 and parameters: {'n_estimators': 474, 'min_samples_split': 18, 'min_samples_leaf': 17, 'max_depth': 8}. Best is trial 10 with value: 298166.6666666667.\u001b[0m\n"
     ]
    }
   ],
   "source": [
    "seed = 42\n",
    "n_trials = 20\n",
    "\n",
    "study = optuna.create_study(direction = 'maximize')\n",
    "study.optimize(Objective(seed), n_trials = n_trials)"
   ]
  },
  {
   "cell_type": "code",
   "execution_count": 27,
   "id": "c0a9d4a4-1de8-404c-86c7-a359d8936a20",
   "metadata": {
    "tags": []
   },
   "outputs": [
    {
     "data": {
      "text/plain": [
       "{'n_estimators': 692,\n",
       " 'min_samples_split': 19,\n",
       " 'min_samples_leaf': 5,\n",
       " 'max_depth': 10}"
      ]
     },
     "execution_count": 27,
     "metadata": {},
     "output_type": "execute_result"
    }
   ],
   "source": [
    "study.best_trial.params"
   ]
  },
  {
   "cell_type": "code",
   "execution_count": 38,
   "id": "0360fd5b-d5b5-4bdb-bb02-daeb7437a471",
   "metadata": {
    "tags": []
   },
   "outputs": [
    {
     "name": "stderr",
     "output_type": "stream",
     "text": [
      "/tmp/ipykernel_14275/2295868713.py:8: DataConversionWarning: A column-vector y was passed when a 1d array was expected. Please change the shape of y to (n_samples,), for example using ravel().\n",
      "  rf_md2 = RandomForestClassifier(**study.best_trial.params).fit(x, y)\n"
     ]
    },
    {
     "name": "stdout",
     "output_type": "stream",
     "text": [
      "[[1125   18]\n",
      " [  28  329]]\n",
      "the cost of the RF is: 104500\n"
     ]
    }
   ],
   "source": [
    "## validation, test definition\n",
    "x_val = validation[['interaction_3', 'interaction_1', 'satisfaction_level', 'time_spend_company', 'number_project']]\n",
    "x_test = test[['interaction_3', 'interaction_1', 'satisfaction_level', 'time_spend_company', 'number_project']]\n",
    "\n",
    "y_val = validation['left']\n",
    "y_test = test['left']\n",
    "## building a random forest model using the above parameters from optuna\n",
    "rf_md2 = RandomForestClassifier(**study.best_trial.params).fit(x, y)\n",
    "\n",
    "## predicting on validation and test\n",
    "rf_val_pred = rf_md2.predict_proba(x_val)[:,1]\n",
    "rf_test_pred = rf_md2.predict_proba(x_test)[:,1]\n",
    "\n",
    "## identifying optimal cutoff\n",
    "opt_cutoff = cost_function(y_val, rf_val_pred)[1]\n",
    "\n",
    "## changing likelihoods to labels\n",
    "rf_label = np.where(rf_test_pred < opt_cutoff, 0, 1)\n",
    "\n",
    "conf_mat = confusion_matrix(y_test, rf_label) \n",
    "print(conf_mat)\n",
    "print('the cost of the RF is:', -1500 * conf_mat[1, 0] - 1000 * conf_mat[0, 1] + 500 * conf_mat[1, 1])"
   ]
  },
  {
   "cell_type": "code",
   "execution_count": null,
   "id": "05ba4df2-a016-4d94-8b4d-b520a19997f8",
   "metadata": {},
   "outputs": [],
   "source": []
  }
 ],
 "metadata": {
  "kernelspec": {
   "display_name": "conda_python3",
   "language": "python",
   "name": "conda_python3"
  },
  "language_info": {
   "codemirror_mode": {
    "name": "ipython",
    "version": 3
   },
   "file_extension": ".py",
   "mimetype": "text/x-python",
   "name": "python",
   "nbconvert_exporter": "python",
   "pygments_lexer": "ipython3",
   "version": "3.10.8"
  }
 },
 "nbformat": 4,
 "nbformat_minor": 5
}
